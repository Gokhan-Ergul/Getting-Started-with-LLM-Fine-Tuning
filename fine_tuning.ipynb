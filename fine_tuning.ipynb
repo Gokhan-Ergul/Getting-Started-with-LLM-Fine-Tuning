{
 "cells": [
  {
   "cell_type": "code",
   "execution_count": 1,
   "id": "908c09ec-b960-47d7-bf01-ebb3ba2468ee",
   "metadata": {},
   "outputs": [
    {
     "name": "stderr",
     "output_type": "stream",
     "text": [
      "/home/gokhan/miniconda3/envs/pytorch-gpu/lib/python3.10/site-packages/tqdm/auto.py:21: TqdmWarning: IProgress not found. Please update jupyter and ipywidgets. See https://ipywidgets.readthedocs.io/en/stable/user_install.html\n",
      "  from .autonotebook import tqdm as notebook_tqdm\n"
     ]
    }
   ],
   "source": [
    "import torch\n",
    "from torch.optim import AdamW\n",
    "from transformers import AutoTokenizer, AutoModelForSequenceClassification\n",
    "from datasets import load_dataset\n",
    "from transformers import TrainingArguments\n",
    "from transformers import Trainer\n",
    "import numpy as np\n",
    "import evaluate"
   ]
  },
  {
   "cell_type": "markdown",
   "id": "91eb68e1-e557-4808-b804-ce060c258c1e",
   "metadata": {},
   "source": [
    "# Preprocessing"
   ]
  },
  {
   "cell_type": "code",
   "execution_count": 2,
   "id": "7015bed7-5c99-4766-bc60-100785dde308",
   "metadata": {},
   "outputs": [
    {
     "name": "stderr",
     "output_type": "stream",
     "text": [
      "/home/gokhan/miniconda3/envs/pytorch-gpu/lib/python3.10/site-packages/huggingface_hub/file_download.py:943: FutureWarning: `resume_download` is deprecated and will be removed in version 1.0.0. Downloads always resume when possible. If you want to force a new download, use `force_download=True`.\n",
      "  warnings.warn(\n",
      "Some weights of the model checkpoint at bert-base-uncased were not used when initializing BertForSequenceClassification: ['cls.seq_relationship.bias', 'cls.seq_relationship.weight', 'cls.predictions.transform.LayerNorm.bias', 'cls.predictions.transform.dense.bias', 'cls.predictions.transform.LayerNorm.weight', 'cls.predictions.transform.dense.weight', 'cls.predictions.bias']\n",
      "- This IS expected if you are initializing BertForSequenceClassification from the checkpoint of a model trained on another task or with another architecture (e.g. initializing a BertForSequenceClassification model from a BertForPreTraining model).\n",
      "- This IS NOT expected if you are initializing BertForSequenceClassification from the checkpoint of a model that you expect to be exactly identical (initializing a BertForSequenceClassification model from a BertForSequenceClassification model).\n",
      "Some weights of BertForSequenceClassification were not initialized from the model checkpoint at bert-base-uncased and are newly initialized: ['classifier.bias', 'classifier.weight']\n",
      "You should probably TRAIN this model on a down-stream task to be able to use it for predictions and inference.\n"
     ]
    }
   ],
   "source": [
    "checkpoint = 'bert-base-uncased' #Trained model weights\n",
    "tokenizer = AutoTokenizer.from_pretrained(checkpoint) # from raw text to numerical IDs\n",
    "model = AutoModelForSequenceClassification.from_pretrained(checkpoint)\n",
    "seq = [\"I've been waiting for a HuggingFace course my whole life.\",\n",
    "    \"This course is amazing!\",] #We will fine tune with these sentence but we will use a dataset from hub soon.\n",
    "\n",
    "batch = tokenizer(seq, padding= True, truncation=True, return_tensors='pt')"
   ]
  },
  {
   "cell_type": "code",
   "execution_count": 3,
   "id": "36ab43a5-37c6-4302-92e3-651cb65578d1",
   "metadata": {
    "tags": []
   },
   "outputs": [
    {
     "data": {
      "text/plain": [
       "{'input_ids': tensor([[  101,  1045,  1005,  2310,  2042,  3403,  2005,  1037, 17662, 12172,\n",
       "          2607,  2026,  2878,  2166,  1012,   102],\n",
       "        [  101,  2023,  2607,  2003,  6429,   999,   102,     0,     0,     0,\n",
       "             0,     0,     0,     0,     0,     0]]), 'token_type_ids': tensor([[0, 0, 0, 0, 0, 0, 0, 0, 0, 0, 0, 0, 0, 0, 0, 0],\n",
       "        [0, 0, 0, 0, 0, 0, 0, 0, 0, 0, 0, 0, 0, 0, 0, 0]]), 'attention_mask': tensor([[1, 1, 1, 1, 1, 1, 1, 1, 1, 1, 1, 1, 1, 1, 1, 1],\n",
       "        [1, 1, 1, 1, 1, 1, 1, 0, 0, 0, 0, 0, 0, 0, 0, 0]])}"
      ]
     },
     "execution_count": 3,
     "metadata": {},
     "output_type": "execute_result"
    }
   ],
   "source": [
    "batch\n",
    "#padding to make all of them same size because models only accept triangular\n",
    "#token_type_ids : to distunguish between different sentence in a single input seq. if we were use a pair it would contain ones and zeros instead of only zeros.\n",
    "#attention_mask: shows us which ones is real input(1) which ones are padding(0)"
   ]
  },
  {
   "cell_type": "code",
   "execution_count": 4,
   "id": "ccafe7e1-9e4b-4c54-b91a-d495c2c0f8cf",
   "metadata": {},
   "outputs": [],
   "source": [
    "batch[\"labels\"] = torch.tensor([1,1]) # we are adding labels for our inputs.\n",
    "optimizer = AdamW(model.parameters()) #with transformars AdamW better than Adam mostly. But these are similar.\n",
    "loss = model(**batch).loss # model forward pass (takes inputs and produces outputs)\n",
    "loss.backward() #calculade gradients without this step model can't know how to update the weights\n",
    "optimizer.step() # applies those gradients to update the model parameters."
   ]
  },
  {
   "cell_type": "markdown",
   "id": "57c6265b-2507-43d0-ba0b-60186306e4e0",
   "metadata": {},
   "source": [
    "okay, now we see how it works so we can use a real dataset:"
   ]
  },
  {
   "cell_type": "markdown",
   "id": "2598c7d0-3489-4541-95ea-ed1d5b69aac5",
   "metadata": {},
   "source": [
    "# Input Dataset"
   ]
  },
  {
   "cell_type": "code",
   "execution_count": 5,
   "id": "f220aee8-8300-4d97-a90e-9c7f916506b6",
   "metadata": {},
   "outputs": [
    {
     "data": {
      "text/plain": [
       "DatasetDict({\n",
       "    train: Dataset({\n",
       "        features: ['sentence1', 'sentence2', 'label', 'idx'],\n",
       "        num_rows: 3668\n",
       "    })\n",
       "    validation: Dataset({\n",
       "        features: ['sentence1', 'sentence2', 'label', 'idx'],\n",
       "        num_rows: 408\n",
       "    })\n",
       "    test: Dataset({\n",
       "        features: ['sentence1', 'sentence2', 'label', 'idx'],\n",
       "        num_rows: 1725\n",
       "    })\n",
       "})"
      ]
     },
     "execution_count": 5,
     "metadata": {},
     "output_type": "execute_result"
    }
   ],
   "source": [
    "raw_datasets = load_dataset(\"glue\", \"mrpc\")\n",
    "#glue: it is a benchmark name with 9 natural langunage understanding tasks\n",
    "#mrpc: is the one of the glue task: microsoft reasearch paraphrase corpus. each sample has 2 sentence sentence 1 and sentence2\n",
    "raw_datasets"
   ]
  },
  {
   "cell_type": "markdown",
   "id": "2b4f2dec-ea62-4cef-9f02-86fe7ddbbe73",
   "metadata": {
    "tags": []
   },
   "source": [
    "`label = 1`: two sentece is same meaning\n",
    "\n",
    "\n",
    "`label = 0`: diffeent meaning"
   ]
  },
  {
   "cell_type": "code",
   "execution_count": 6,
   "id": "ccf2ae19-ee27-4c31-ad5b-6fbebb6a2730",
   "metadata": {},
   "outputs": [
    {
     "data": {
      "text/plain": [
       "{'sentence1': \"He told The Sun newspaper that Mr. Hussein 's daughters had British schools and hospitals in mind when they decided to ask for asylum .\",\n",
       " 'sentence2': '\" Saddam \\'s daughters had British schools and hospitals in mind when they decided to ask for asylum -- especially the schools , \" he told The Sun .',\n",
       " 'label': 1,\n",
       " 'idx': 14}"
      ]
     },
     "execution_count": 6,
     "metadata": {},
     "output_type": "execute_result"
    }
   ],
   "source": [
    "raw_train_dataset = raw_datasets[\"train\"]\n",
    "raw_train_dataset[13] # an example from the dataset"
   ]
  },
  {
   "cell_type": "code",
   "execution_count": 7,
   "id": "2fe60607-b68a-48a8-8707-485f053df0d1",
   "metadata": {},
   "outputs": [
    {
     "data": {
      "text/plain": [
       "{'sentence1': Value(dtype='string', id=None),\n",
       " 'sentence2': Value(dtype='string', id=None),\n",
       " 'label': ClassLabel(names=['not_equivalent', 'equivalent'], id=None),\n",
       " 'idx': Value(dtype='int32', id=None)}"
      ]
     },
     "execution_count": 7,
     "metadata": {},
     "output_type": "execute_result"
    }
   ],
   "source": [
    "raw_train_dataset.features "
   ]
  },
  {
   "cell_type": "code",
   "execution_count": 8,
   "id": "e6ca3a9e-1224-45db-938b-f2f9c78bbb0c",
   "metadata": {},
   "outputs": [],
   "source": [
    "tokenized_sent1 = tokenizer(raw_datasets[\"train\"][\"sentence1\"])\n",
    "tokenized_sent2 = tokenizer(raw_datasets[\"train\"][\"sentence2\"])"
   ]
  },
  {
   "cell_type": "code",
   "execution_count": 9,
   "id": "570b4585-aec7-4ab6-b654-5159d9b9dac5",
   "metadata": {},
   "outputs": [
    {
     "data": {
      "text/plain": [
       "{'input_ids': [101, 2023, 2003, 1996, 2034, 6251, 1012, 102, 2023, 2003, 1996, 2117, 2028, 1012, 102], 'token_type_ids': [0, 0, 0, 0, 0, 0, 0, 0, 1, 1, 1, 1, 1, 1, 1], 'attention_mask': [1, 1, 1, 1, 1, 1, 1, 1, 1, 1, 1, 1, 1, 1, 1], 'labels': [101, 2175, 26370, 9413, 24848, 102]}"
      ]
     },
     "execution_count": 9,
     "metadata": {},
     "output_type": "execute_result"
    }
   ],
   "source": [
    "inputs = tokenizer(\"This is the first sentence.\", \"This is the second one.\",\"Gokhan ergul\") #only 2 pairs are allowed\n",
    "inputs"
   ]
  },
  {
   "cell_type": "code",
   "execution_count": 10,
   "id": "ee067a04-f0d6-4d47-8486-89e494673d85",
   "metadata": {},
   "outputs": [
    {
     "data": {
      "text/plain": [
       "['[CLS]',\n",
       " 'this',\n",
       " 'is',\n",
       " 'the',\n",
       " 'first',\n",
       " 'sentence',\n",
       " '.',\n",
       " '[SEP]',\n",
       " 'this',\n",
       " 'is',\n",
       " 'the',\n",
       " 'second',\n",
       " 'one',\n",
       " '.',\n",
       " '[SEP]']"
      ]
     },
     "execution_count": 10,
     "metadata": {},
     "output_type": "execute_result"
    }
   ],
   "source": [
    "tokenizer.convert_ids_to_tokens(inputs['input_ids'])"
   ]
  },
  {
   "cell_type": "code",
   "execution_count": 11,
   "id": "385c4df9-937a-4cf1-a91b-806a57ded3d9",
   "metadata": {},
   "outputs": [],
   "source": [
    "#we didn't give whole dataset to tokenizer direktly because of ram.\n",
    "def tokenize_function(example):\n",
    "    return tokenizer(example[\"sentence1\"], example[\"sentence2\"], truncation=True)"
   ]
  },
  {
   "cell_type": "code",
   "execution_count": 12,
   "id": "bb91db3c-725d-4d43-8e26-89cc85c7eb6e",
   "metadata": {},
   "outputs": [
    {
     "data": {
      "text/plain": [
       "DatasetDict({\n",
       "    train: Dataset({\n",
       "        features: ['sentence1', 'sentence2', 'label', 'idx', 'input_ids', 'token_type_ids', 'attention_mask'],\n",
       "        num_rows: 3668\n",
       "    })\n",
       "    validation: Dataset({\n",
       "        features: ['sentence1', 'sentence2', 'label', 'idx', 'input_ids', 'token_type_ids', 'attention_mask'],\n",
       "        num_rows: 408\n",
       "    })\n",
       "    test: Dataset({\n",
       "        features: ['sentence1', 'sentence2', 'label', 'idx', 'input_ids', 'token_type_ids', 'attention_mask'],\n",
       "        num_rows: 1725\n",
       "    })\n",
       "})"
      ]
     },
     "execution_count": 12,
     "metadata": {},
     "output_type": "execute_result"
    }
   ],
   "source": [
    "tokenized_datasets = raw_datasets.map(tokenize_function, batched=True) #batched=True in our call to map so the function is applied to multiple elements of our dataset at once\n",
    "tokenized_datasets"
   ]
  },
  {
   "cell_type": "code",
   "execution_count": 13,
   "id": "e5775eb8-7cc2-404b-b8c7-2e590aca268b",
   "metadata": {},
   "outputs": [],
   "source": [
    "from transformers import DataCollatorWithPadding\n",
    "data_collator = DataCollatorWithPadding(tokenizer=tokenizer) #creats mini batchs and padding them."
   ]
  },
  {
   "cell_type": "code",
   "execution_count": 14,
   "id": "0e0726ce-8d4f-49a1-a039-aea65486de73",
   "metadata": {},
   "outputs": [
    {
     "data": {
      "text/plain": [
       "[50, 59, 47, 67, 59, 50, 62, 32]"
      ]
     },
     "execution_count": 14,
     "metadata": {},
     "output_type": "execute_result"
    }
   ],
   "source": [
    "samples = tokenized_datasets[\"train\"][:8]\n",
    "samples = {k: v for k, v in samples.items() if k not in [\"idx\", \"sentence1\", \"sentence2\"]}\n",
    "[len(x) for x in samples[\"input_ids\"]] #token_type_ids or attention_mask."
   ]
  },
  {
   "cell_type": "code",
   "execution_count": 15,
   "id": "af9f11ec-c972-4eac-bebf-5fdc36cb4929",
   "metadata": {
    "scrolled": true
   },
   "outputs": [
    {
     "name": "stderr",
     "output_type": "stream",
     "text": [
      "You're using a BertTokenizerFast tokenizer. Please note that with a fast tokenizer, using the `__call__` method is faster than using a method to encode the text followed by a call to the `pad` method to get a padded encoding.\n"
     ]
    },
    {
     "data": {
      "text/plain": [
       "{'input_ids': torch.Size([8, 67]),\n",
       " 'token_type_ids': torch.Size([8, 67]),\n",
       " 'attention_mask': torch.Size([8, 67]),\n",
       " 'labels': torch.Size([8])}"
      ]
     },
     "execution_count": 15,
     "metadata": {},
     "output_type": "execute_result"
    }
   ],
   "source": [
    "batch = data_collator(samples) # takes the sample and turns it to a batch of tensors\n",
    "{k: v.shape for k, v in batch.items()}"
   ]
  },
  {
   "cell_type": "markdown",
   "id": "7b25d895-8ec6-4119-8e32-02e3bdffb749",
   "metadata": {},
   "source": [
    "# Training"
   ]
  },
  {
   "cell_type": "code",
   "execution_count": 16,
   "id": "bc6c1a40-8fec-43e5-b9b0-9fd4f485d69d",
   "metadata": {},
   "outputs": [],
   "source": [
    "training_args = TrainingArguments(\"test-trainer\") # the parameter is the output_dir for record everything about the training."
   ]
  },
  {
   "cell_type": "code",
   "execution_count": 17,
   "id": "a3762a81-2443-42fa-bf11-851f22a71206",
   "metadata": {},
   "outputs": [
    {
     "name": "stderr",
     "output_type": "stream",
     "text": [
      "/home/gokhan/miniconda3/envs/pytorch-gpu/lib/python3.10/site-packages/huggingface_hub/file_download.py:943: FutureWarning: `resume_download` is deprecated and will be removed in version 1.0.0. Downloads always resume when possible. If you want to force a new download, use `force_download=True`.\n",
      "  warnings.warn(\n",
      "Some weights of the model checkpoint at bert-base-uncased were not used when initializing BertForSequenceClassification: ['cls.seq_relationship.bias', 'cls.seq_relationship.weight', 'cls.predictions.transform.LayerNorm.bias', 'cls.predictions.transform.dense.bias', 'cls.predictions.transform.LayerNorm.weight', 'cls.predictions.transform.dense.weight', 'cls.predictions.bias']\n",
      "- This IS expected if you are initializing BertForSequenceClassification from the checkpoint of a model trained on another task or with another architecture (e.g. initializing a BertForSequenceClassification model from a BertForPreTraining model).\n",
      "- This IS NOT expected if you are initializing BertForSequenceClassification from the checkpoint of a model that you expect to be exactly identical (initializing a BertForSequenceClassification model from a BertForSequenceClassification model).\n",
      "Some weights of BertForSequenceClassification were not initialized from the model checkpoint at bert-base-uncased and are newly initialized: ['classifier.bias', 'classifier.weight']\n",
      "You should probably TRAIN this model on a down-stream task to be able to use it for predictions and inference.\n"
     ]
    }
   ],
   "source": [
    "model = AutoModelForSequenceClassification.from_pretrained(checkpoint,num_labels=2)"
   ]
  },
  {
   "cell_type": "code",
   "execution_count": 18,
   "id": "31e8a0af-876d-4fcf-b0f7-ac7a8562e86d",
   "metadata": {},
   "outputs": [],
   "source": [
    "trainer = Trainer(model,\n",
    "                 training_args,\n",
    "                 train_dataset=tokenized_datasets['train'],\n",
    "                 eval_dataset=tokenized_datasets['validation'],\n",
    "                 data_collator=data_collator,\n",
    "                 tokenizer = tokenizer)"
   ]
  },
  {
   "cell_type": "code",
   "execution_count": 19,
   "id": "f9e8d61e-4273-4ff8-a3c5-a0b6fee23148",
   "metadata": {},
   "outputs": [
    {
     "name": "stderr",
     "output_type": "stream",
     "text": [
      "/home/gokhan/miniconda3/envs/pytorch-gpu/lib/python3.10/site-packages/transformers/optimization.py:411: FutureWarning: This implementation of AdamW is deprecated and will be removed in a future version. Use the PyTorch implementation torch.optim.AdamW instead, or set `no_deprecation_warning=True` to disable this warning\n",
      "  warnings.warn(\n",
      "\u001b[34m\u001b[1mwandb\u001b[0m: Currently logged in as: \u001b[33mgokhannergull\u001b[0m (\u001b[33mgokhannergull-student\u001b[0m) to \u001b[32mhttps://api.wandb.ai\u001b[0m. Use \u001b[1m`wandb login --relogin`\u001b[0m to force relogin\n"
     ]
    },
    {
     "data": {
      "text/html": [
       "Tracking run with wandb version 0.21.1"
      ],
      "text/plain": [
       "<IPython.core.display.HTML object>"
      ]
     },
     "metadata": {},
     "output_type": "display_data"
    },
    {
     "data": {
      "text/html": [
       "Run data is saved locally in <code>/home/gokhan/hugging_face/wandb/run-20250902_133224-034a8jmn</code>"
      ],
      "text/plain": [
       "<IPython.core.display.HTML object>"
      ]
     },
     "metadata": {},
     "output_type": "display_data"
    },
    {
     "data": {
      "text/html": [
       "Syncing run <strong><a href='https://wandb.ai/gokhannergull-student/huggingface/runs/034a8jmn' target=\"_blank\">silvery-glade-1</a></strong> to <a href='https://wandb.ai/gokhannergull-student/huggingface' target=\"_blank\">Weights & Biases</a> (<a href='https://wandb.me/developer-guide' target=\"_blank\">docs</a>)<br>"
      ],
      "text/plain": [
       "<IPython.core.display.HTML object>"
      ]
     },
     "metadata": {},
     "output_type": "display_data"
    },
    {
     "data": {
      "text/html": [
       " View project at <a href='https://wandb.ai/gokhannergull-student/huggingface' target=\"_blank\">https://wandb.ai/gokhannergull-student/huggingface</a>"
      ],
      "text/plain": [
       "<IPython.core.display.HTML object>"
      ]
     },
     "metadata": {},
     "output_type": "display_data"
    },
    {
     "data": {
      "text/html": [
       " View run at <a href='https://wandb.ai/gokhannergull-student/huggingface/runs/034a8jmn' target=\"_blank\">https://wandb.ai/gokhannergull-student/huggingface/runs/034a8jmn</a>"
      ],
      "text/plain": [
       "<IPython.core.display.HTML object>"
      ]
     },
     "metadata": {},
     "output_type": "display_data"
    },
    {
     "data": {
      "text/html": [
       "\n",
       "    <div>\n",
       "      \n",
       "      <progress value='1377' max='1377' style='width:300px; height:20px; vertical-align: middle;'></progress>\n",
       "      [1377/1377 03:43, Epoch 3/3]\n",
       "    </div>\n",
       "    <table border=\"1\" class=\"dataframe\">\n",
       "  <thead>\n",
       " <tr style=\"text-align: left;\">\n",
       "      <th>Step</th>\n",
       "      <th>Training Loss</th>\n",
       "    </tr>\n",
       "  </thead>\n",
       "  <tbody>\n",
       "    <tr>\n",
       "      <td>500</td>\n",
       "      <td>0.502300</td>\n",
       "    </tr>\n",
       "    <tr>\n",
       "      <td>1000</td>\n",
       "      <td>0.292000</td>\n",
       "    </tr>\n",
       "  </tbody>\n",
       "</table><p>"
      ],
      "text/plain": [
       "<IPython.core.display.HTML object>"
      ]
     },
     "metadata": {},
     "output_type": "display_data"
    },
    {
     "data": {
      "text/plain": [
       "TrainOutput(global_step=1377, training_loss=0.3214979040163881, metrics={'train_runtime': 225.4865, 'train_samples_per_second': 48.801, 'train_steps_per_second': 6.107, 'total_flos': 406183858377360.0, 'train_loss': 0.3214979040163881, 'epoch': 3.0})"
      ]
     },
     "execution_count": 19,
     "metadata": {},
     "output_type": "execute_result"
    }
   ],
   "source": [
    "trainer.train() #fit"
   ]
  },
  {
   "cell_type": "code",
   "execution_count": 21,
   "id": "3c8119ef-2c63-46ca-8771-22ac6e8b510c",
   "metadata": {},
   "outputs": [
    {
     "data": {
      "text/html": [],
      "text/plain": [
       "<IPython.core.display.HTML object>"
      ]
     },
     "metadata": {},
     "output_type": "display_data"
    }
   ],
   "source": [
    "pred = trainer.predict(tokenized_datasets['validation'])"
   ]
  },
  {
   "cell_type": "code",
   "execution_count": 22,
   "id": "c83bbef8-3865-43f6-958d-2bcca8f94197",
   "metadata": {},
   "outputs": [
    {
     "name": "stdout",
     "output_type": "stream",
     "text": [
      "(408, 2) (408,)\n"
     ]
    }
   ],
   "source": [
    "print(pred.predictions.shape,pred.label_ids.shape)"
   ]
  },
  {
   "cell_type": "code",
   "execution_count": 23,
   "id": "5d52bdf7-f39c-4cfb-9bf5-31a45addd259",
   "metadata": {},
   "outputs": [],
   "source": [
    "preds = np.argmax(pred.predictions, axis = -1)#return the highest index"
   ]
  },
  {
   "cell_type": "code",
   "execution_count": 24,
   "id": "9895e257-9f8c-4b34-b970-dc9a5d68a30e",
   "metadata": {},
   "outputs": [
    {
     "data": {
      "text/plain": [
       "array([1, 0, 0, 1, 0, 1, 1, 1, 1, 1, 1, 0, 0, 1, 1, 0, 1, 0, 1, 0, 0, 1,\n",
       "       0, 1, 1, 1, 1, 1, 1, 1, 0, 1, 1, 1, 1, 1, 0, 0, 0, 1, 0, 1, 0, 0,\n",
       "       1, 1, 1, 0, 1, 1, 1, 1, 1, 1, 1, 1, 0, 1, 1, 1, 1, 0, 1, 1, 1, 0,\n",
       "       1, 1, 0, 1, 1, 1, 1, 1, 1, 1, 1, 1, 1, 1, 0, 1, 1, 0, 1, 1, 1, 0,\n",
       "       1, 1, 0, 1, 1, 1, 1, 1, 0, 1, 1, 1, 1, 1, 1, 1, 0, 1, 1, 0, 1, 1,\n",
       "       1, 1, 1, 1, 1, 0, 1, 1, 1, 1, 1, 1, 0, 1, 1, 1, 1, 0, 1, 1, 1, 1,\n",
       "       1, 0, 1, 1, 0, 0, 1, 1, 1, 0, 0, 1, 1, 1, 1, 1, 1, 1, 0, 1, 1, 1,\n",
       "       1, 1, 1, 1, 0, 1, 1, 1, 1, 1, 1, 1, 1, 0, 1, 0, 0, 0, 1, 1, 0, 1,\n",
       "       1, 0, 1, 1, 0, 1, 1, 1, 1, 1, 0, 0, 0, 1, 1, 0, 1, 1, 1, 1, 1, 1,\n",
       "       1, 1, 0, 1, 1, 1, 1, 0, 1, 1, 1, 0, 0, 1, 1, 1, 1, 1, 1, 1, 0, 1,\n",
       "       0, 1, 1, 0, 1, 1, 1, 1, 1, 1, 1, 1, 1, 0, 0, 0, 1, 0, 1, 0, 1, 0,\n",
       "       1, 1, 1, 1, 1, 0, 1, 1, 1, 0, 0, 1, 1, 0, 1, 1, 1, 1, 1, 1, 1, 1,\n",
       "       1, 1, 1, 0, 0, 1, 0, 1, 1, 1, 1, 1, 1, 1, 1, 0, 1, 1, 1, 0, 1, 1,\n",
       "       1, 1, 1, 0, 1, 0, 1, 1, 1, 0, 0, 1, 1, 1, 1, 1, 1, 0, 1, 1, 0, 1,\n",
       "       0, 1, 1, 1, 1, 0, 1, 0, 1, 1, 0, 0, 0, 0, 0, 1, 0, 1, 1, 1, 1, 1,\n",
       "       1, 1, 0, 1, 1, 1, 1, 1, 0, 1, 1, 1, 0, 0, 1, 1, 1, 1, 1, 1, 0, 1,\n",
       "       1, 1, 0, 0, 1, 1, 1, 1, 0, 1, 1, 0, 1, 1, 1, 1, 0, 0, 0, 1, 1, 1,\n",
       "       0, 0, 1, 0, 1, 1, 1, 1, 0, 1, 1, 0, 1, 0, 1, 0, 1, 1, 1, 1, 1, 1,\n",
       "       1, 1, 1, 1, 0, 1, 1, 0, 1, 1, 0, 1])"
      ]
     },
     "execution_count": 24,
     "metadata": {},
     "output_type": "execute_result"
    }
   ],
   "source": [
    "preds"
   ]
  },
  {
   "cell_type": "code",
   "execution_count": 29,
   "id": "a1102f92-f435-4f39-b6b7-3d325a008994",
   "metadata": {},
   "outputs": [],
   "source": [
    "metric = evaluate.load('glue','mrpc')"
   ]
  },
  {
   "cell_type": "code",
   "execution_count": 31,
   "id": "65ddb8b1-b753-49e8-b3d3-f4f5ec2623ed",
   "metadata": {},
   "outputs": [
    {
     "data": {
      "text/plain": [
       "{'accuracy': 0.8774509803921569, 'f1': 0.9134948096885813}"
      ]
     },
     "execution_count": 31,
     "metadata": {},
     "output_type": "execute_result"
    }
   ],
   "source": [
    "metric.compute(predictions = preds , references = pred.label_ids) #these values will change on your machine because of random seed"
   ]
  },
  {
   "cell_type": "code",
   "execution_count": 26,
   "id": "a09a1d80-0cde-4c1c-a577-1dc5da3317ff",
   "metadata": {},
   "outputs": [],
   "source": [
    "#instead of the codes that is above, we could use:\n",
    "#acc = accuracy_score(labels, preds)\n",
    "#f1 = f1_score(labels, preds)\n",
    "#as well"
   ]
  },
  {
   "cell_type": "code",
   "execution_count": 32,
   "id": "64eaf0de-0f37-4c3f-bc4f-662b2ddc5371",
   "metadata": {},
   "outputs": [
    {
     "data": {
      "text/plain": [
       "['sentence1',\n",
       " 'sentence2',\n",
       " 'label',\n",
       " 'idx',\n",
       " 'input_ids',\n",
       " 'token_type_ids',\n",
       " 'attention_mask']"
      ]
     },
     "execution_count": 32,
     "metadata": {},
     "output_type": "execute_result"
    }
   ],
   "source": [
    "tokenized_datasets['validation'].column_names"
   ]
  },
  {
   "cell_type": "code",
   "execution_count": 34,
   "id": "afb2a1a6-423c-4d74-8745-058c44807cd1",
   "metadata": {},
   "outputs": [],
   "source": [
    "def compute_metrics(eval_preds):\n",
    "    logits, labels = eval_preds.predictions, eval_preds.label_ids\n",
    "    \n",
    "    predictions = np.argmax(logits, axis=-1)\n",
    "    print(f\"Predictions shape: {np.array(predictions).shape}\")\n",
    "    return metric.compute(predictions=predictions, references=labels)\n"
   ]
  },
  {
   "cell_type": "code",
   "execution_count": 35,
   "id": "acc54c5f-c293-4f7f-8cbc-8fa1802104bc",
   "metadata": {},
   "outputs": [
    {
     "name": "stderr",
     "output_type": "stream",
     "text": [
      "/home/gokhan/miniconda3/envs/pytorch-gpu/lib/python3.10/site-packages/huggingface_hub/file_download.py:943: FutureWarning: `resume_download` is deprecated and will be removed in version 1.0.0. Downloads always resume when possible. If you want to force a new download, use `force_download=True`.\n",
      "  warnings.warn(\n",
      "Some weights of the model checkpoint at bert-base-uncased were not used when initializing BertForSequenceClassification: ['cls.seq_relationship.bias', 'cls.seq_relationship.weight', 'cls.predictions.transform.LayerNorm.bias', 'cls.predictions.transform.dense.bias', 'cls.predictions.transform.LayerNorm.weight', 'cls.predictions.transform.dense.weight', 'cls.predictions.bias']\n",
      "- This IS expected if you are initializing BertForSequenceClassification from the checkpoint of a model trained on another task or with another architecture (e.g. initializing a BertForSequenceClassification model from a BertForPreTraining model).\n",
      "- This IS NOT expected if you are initializing BertForSequenceClassification from the checkpoint of a model that you expect to be exactly identical (initializing a BertForSequenceClassification model from a BertForSequenceClassification model).\n",
      "Some weights of BertForSequenceClassification were not initialized from the model checkpoint at bert-base-uncased and are newly initialized: ['classifier.bias', 'classifier.weight']\n",
      "You should probably TRAIN this model on a down-stream task to be able to use it for predictions and inference.\n"
     ]
    }
   ],
   "source": [
    "training_args = TrainingArguments(\"test-trainer\",evaluation_strategy='epoch')\n",
    "model = AutoModelForSequenceClassification.from_pretrained(checkpoint,num_labels = 2)\n",
    "trainer = Trainer(\n",
    "    model,\n",
    "    training_args,\n",
    "    train_dataset = tokenized_datasets['train'],\n",
    "    eval_dataset = tokenized_datasets['validation'],\n",
    "    data_collator = data_collator,\n",
    "    tokenizer = tokenizer,\n",
    "    compute_metrics=compute_metrics #the different is it will show as the accuarcy metrices after the training automatically\n",
    ")"
   ]
  },
  {
   "cell_type": "code",
   "execution_count": 43,
   "id": "c545a18c-3b32-4adf-baef-d8aba367d083",
   "metadata": {},
   "outputs": [
    {
     "name": "stderr",
     "output_type": "stream",
     "text": [
      "/home/gokhan/miniconda3/envs/pytorch-gpu/lib/python3.10/site-packages/transformers/optimization.py:411: FutureWarning: This implementation of AdamW is deprecated and will be removed in a future version. Use the PyTorch implementation torch.optim.AdamW instead, or set `no_deprecation_warning=True` to disable this warning\n",
      "  warnings.warn(\n"
     ]
    },
    {
     "data": {
      "text/html": [
       "\n",
       "    <div>\n",
       "      \n",
       "      <progress value='1377' max='1377' style='width:300px; height:20px; vertical-align: middle;'></progress>\n",
       "      [1377/1377 03:48, Epoch 3/3]\n",
       "    </div>\n",
       "    <table border=\"1\" class=\"dataframe\">\n",
       "  <thead>\n",
       " <tr style=\"text-align: left;\">\n",
       "      <th>Epoch</th>\n",
       "      <th>Training Loss</th>\n",
       "      <th>Validation Loss</th>\n",
       "      <th>Accuracy</th>\n",
       "      <th>F1</th>\n",
       "    </tr>\n",
       "  </thead>\n",
       "  <tbody>\n",
       "    <tr>\n",
       "      <td>1</td>\n",
       "      <td>No log</td>\n",
       "      <td>0.357547</td>\n",
       "      <td>0.848039</td>\n",
       "      <td>0.889680</td>\n",
       "    </tr>\n",
       "    <tr>\n",
       "      <td>2</td>\n",
       "      <td>0.491700</td>\n",
       "      <td>0.478387</td>\n",
       "      <td>0.850490</td>\n",
       "      <td>0.897133</td>\n",
       "    </tr>\n",
       "    <tr>\n",
       "      <td>3</td>\n",
       "      <td>0.259100</td>\n",
       "      <td>0.638390</td>\n",
       "      <td>0.870098</td>\n",
       "      <td>0.909091</td>\n",
       "    </tr>\n",
       "  </tbody>\n",
       "</table><p>"
      ],
      "text/plain": [
       "<IPython.core.display.HTML object>"
      ]
     },
     "metadata": {},
     "output_type": "display_data"
    },
    {
     "name": "stdout",
     "output_type": "stream",
     "text": [
      "Predictions shape: (408,)\n",
      "Predictions shape: (408,)\n",
      "Predictions shape: (408,)\n"
     ]
    },
    {
     "data": {
      "text/plain": [
       "TrainOutput(global_step=1377, training_loss=0.3007839039433409, metrics={'train_runtime': 229.1099, 'train_samples_per_second': 48.029, 'train_steps_per_second': 6.01, 'total_flos': 406183858377360.0, 'train_loss': 0.3007839039433409, 'epoch': 3.0})"
      ]
     },
     "execution_count": 43,
     "metadata": {},
     "output_type": "execute_result"
    }
   ],
   "source": [
    "trainer.train()"
   ]
  },
  {
   "cell_type": "markdown",
   "id": "b2cdede7-7b23-497b-a8d0-ca96579e49c2",
   "metadata": {},
   "source": [
    "# A full training loop\n",
    "\n",
    "\n"
   ]
  },
  {
   "cell_type": "code",
   "execution_count": 36,
   "id": "c4c9aef9-b988-4e00-ba10-53b4be1d948b",
   "metadata": {},
   "outputs": [
    {
     "data": {
      "text/plain": [
       "{'train': (3668, 7), 'validation': (408, 7), 'test': (1725, 7)}"
      ]
     },
     "execution_count": 36,
     "metadata": {},
     "output_type": "execute_result"
    }
   ],
   "source": [
    "tokenized_datasets.shape"
   ]
  },
  {
   "cell_type": "code",
   "execution_count": 37,
   "id": "7765b7bf-6915-4e4d-88c5-f56cb1b749ac",
   "metadata": {},
   "outputs": [
    {
     "data": {
      "text/plain": [
       "DatasetDict({\n",
       "    train: Dataset({\n",
       "        features: ['sentence1', 'sentence2', 'label', 'idx', 'input_ids', 'token_type_ids', 'attention_mask'],\n",
       "        num_rows: 3668\n",
       "    })\n",
       "    validation: Dataset({\n",
       "        features: ['sentence1', 'sentence2', 'label', 'idx', 'input_ids', 'token_type_ids', 'attention_mask'],\n",
       "        num_rows: 408\n",
       "    })\n",
       "    test: Dataset({\n",
       "        features: ['sentence1', 'sentence2', 'label', 'idx', 'input_ids', 'token_type_ids', 'attention_mask'],\n",
       "        num_rows: 1725\n",
       "    })\n",
       "})"
      ]
     },
     "execution_count": 37,
     "metadata": {},
     "output_type": "execute_result"
    }
   ],
   "source": [
    "tokenized_datasets"
   ]
  },
  {
   "cell_type": "code",
   "execution_count": 38,
   "id": "123b90fc-9e0d-42bf-82d0-e9ad67d0e995",
   "metadata": {},
   "outputs": [],
   "source": [
    "tokenized_datasets = tokenized_datasets.remove_columns(['sentence1','sentence2','idx'])"
   ]
  },
  {
   "cell_type": "code",
   "execution_count": 39,
   "id": "e1910062-e3c6-4908-b223-1ca9b8c2fe2c",
   "metadata": {},
   "outputs": [],
   "source": [
    "tokenized_datasets = tokenized_datasets.rename_column('label', 'labels')"
   ]
  },
  {
   "cell_type": "code",
   "execution_count": 40,
   "id": "d4fab83b-c84c-494f-ba79-0076195e5142",
   "metadata": {},
   "outputs": [],
   "source": [
    "tokenized_datasets.set_format('torch')"
   ]
  },
  {
   "cell_type": "code",
   "execution_count": 41,
   "id": "4a608d80-9b6d-4b6e-bdb8-43c0145cbefa",
   "metadata": {},
   "outputs": [
    {
     "data": {
      "text/plain": [
       "['labels', 'input_ids', 'token_type_ids', 'attention_mask']"
      ]
     },
     "execution_count": 41,
     "metadata": {},
     "output_type": "execute_result"
    }
   ],
   "source": [
    "tokenized_datasets['train'].column_names"
   ]
  },
  {
   "cell_type": "code",
   "execution_count": 42,
   "id": "ad40f9c6-6192-424e-bdce-713862ad25da",
   "metadata": {},
   "outputs": [],
   "source": [
    "from torch.utils.data import DataLoader"
   ]
  },
  {
   "cell_type": "code",
   "execution_count": 43,
   "id": "44beab4f-e6d2-4942-a654-2c2e9278f5f9",
   "metadata": {},
   "outputs": [],
   "source": [
    "train_dataloader = DataLoader(\n",
    "    tokenized_datasets['train'],shuffle=True,batch_size=8,collate_fn=data_collator\n",
    ")\n",
    "\n",
    "eval_dataloader = DataLoader(\n",
    "    tokenized_datasets['validation'], batch_size= 8, collate_fn=data_collator\n",
    ")"
   ]
  },
  {
   "cell_type": "code",
   "execution_count": 55,
   "id": "d5aa6f5c-7022-42d3-99b8-ecc4ca735d5c",
   "metadata": {},
   "outputs": [
    {
     "data": {
      "text/plain": [
       "{'labels': torch.Size([8]),\n",
       " 'input_ids': torch.Size([8, 75]),\n",
       " 'token_type_ids': torch.Size([8, 75]),\n",
       " 'attention_mask': torch.Size([8, 75])}"
      ]
     },
     "execution_count": 55,
     "metadata": {},
     "output_type": "execute_result"
    }
   ],
   "source": [
    "for batch in train_dataloader:\n",
    "    break#take the first batch\n",
    "{k:v.shape for k, v in batch.items()}"
   ]
  },
  {
   "cell_type": "code",
   "execution_count": 56,
   "id": "b099951f-e9f0-4ebc-afa3-140635a8e94f",
   "metadata": {},
   "outputs": [
    {
     "name": "stderr",
     "output_type": "stream",
     "text": [
      "/home/gokhan/miniconda3/envs/pytorch-gpu/lib/python3.10/site-packages/huggingface_hub/file_download.py:943: FutureWarning: `resume_download` is deprecated and will be removed in version 1.0.0. Downloads always resume when possible. If you want to force a new download, use `force_download=True`.\n",
      "  warnings.warn(\n",
      "Some weights of the model checkpoint at bert-base-uncased were not used when initializing BertForSequenceClassification: ['cls.seq_relationship.bias', 'cls.seq_relationship.weight', 'cls.predictions.transform.LayerNorm.bias', 'cls.predictions.transform.dense.bias', 'cls.predictions.transform.LayerNorm.weight', 'cls.predictions.transform.dense.weight', 'cls.predictions.bias']\n",
      "- This IS expected if you are initializing BertForSequenceClassification from the checkpoint of a model trained on another task or with another architecture (e.g. initializing a BertForSequenceClassification model from a BertForPreTraining model).\n",
      "- This IS NOT expected if you are initializing BertForSequenceClassification from the checkpoint of a model that you expect to be exactly identical (initializing a BertForSequenceClassification model from a BertForSequenceClassification model).\n",
      "Some weights of BertForSequenceClassification were not initialized from the model checkpoint at bert-base-uncased and are newly initialized: ['classifier.bias', 'classifier.weight']\n",
      "You should probably TRAIN this model on a down-stream task to be able to use it for predictions and inference.\n"
     ]
    }
   ],
   "source": [
    "model = AutoModelForSequenceClassification.from_pretrained(checkpoint, num_labels = 2)"
   ]
  },
  {
   "cell_type": "code",
   "execution_count": 57,
   "id": "f7b017f0-8c47-4794-b207-f6916b6d2990",
   "metadata": {},
   "outputs": [
    {
     "name": "stdout",
     "output_type": "stream",
     "text": [
      "tensor(1.1290, grad_fn=<NllLossBackward0>) torch.Size([8, 2])\n"
     ]
    }
   ],
   "source": [
    "outputs = model (**batch)\n",
    "print(outputs.loss, outputs.logits.shape)"
   ]
  },
  {
   "cell_type": "code",
   "execution_count": 58,
   "id": "1b661582-b6c2-4d21-abab-b9e706f96a30",
   "metadata": {},
   "outputs": [],
   "source": [
    "from torch.optim import AdamW\n",
    "optimizer = AdamW(model.parameters(),lr = 5e-5)"
   ]
  },
  {
   "cell_type": "code",
   "execution_count": 59,
   "id": "c92b0435-1829-4f45-ba88-e00322e76ed2",
   "metadata": {},
   "outputs": [],
   "source": [
    "from transformers import get_scheduler"
   ]
  },
  {
   "cell_type": "code",
   "execution_count": 60,
   "id": "bc50d6b2-a30e-41a8-b89b-d2bde2c724fb",
   "metadata": {},
   "outputs": [
    {
     "name": "stdout",
     "output_type": "stream",
     "text": [
      "1377\n"
     ]
    }
   ],
   "source": [
    "num_epochs = 3\n",
    "num_training_steps = num_epochs * len(train_dataloader)\n",
    "lr_scheduler = get_scheduler(\n",
    "    \"linear\",\n",
    "    optimizer = optimizer,\n",
    "    num_warmup_steps = 0, \n",
    "    num_training_steps = num_training_steps\n",
    ")\n",
    "print(num_training_steps)"
   ]
  },
  {
   "cell_type": "code",
   "execution_count": 61,
   "id": "1c21b40b-af89-41d1-b523-2e8545528bf0",
   "metadata": {},
   "outputs": [
    {
     "data": {
      "text/plain": [
       "device(type='cuda')"
      ]
     },
     "execution_count": 61,
     "metadata": {},
     "output_type": "execute_result"
    }
   ],
   "source": [
    "device = torch.device(\"cuda\") if torch.cuda.is_available() else torch.device(\"cpu\")\n",
    "model.to(device)\n",
    "device"
   ]
  },
  {
   "cell_type": "code",
   "execution_count": 62,
   "id": "77558699-ed17-4364-8c3d-b9bbb2250cd0",
   "metadata": {
    "scrolled": true
   },
   "outputs": [
    {
     "name": "stderr",
     "output_type": "stream",
     "text": [
      "\n",
      "100%|███████████████████████████████████████████████████████████████████████████████| 1377/1377 [07:57<00:00,  2.88it/s]\u001b[A\n",
      "\n",
      "  0%|                                                                                  | 1/1377 [00:00<12:41,  1.81it/s]\u001b[A\n",
      "  0%|▏                                                                                 | 3/1377 [00:00<04:59,  4.58it/s]\u001b[A\n",
      "  1%|▍                                                                                 | 7/1377 [00:00<02:08, 10.66it/s]\u001b[A\n",
      "  1%|▌                                                                                 | 9/1377 [00:01<02:34,  8.84it/s]\u001b[A\n",
      "  1%|▋                                                                                | 11/1377 [00:01<03:00,  7.57it/s]\u001b[A\n",
      "  1%|▊                                                                                | 13/1377 [00:01<03:15,  6.99it/s]\u001b[A\n",
      "  1%|▊                                                                                | 14/1377 [00:02<03:25,  6.64it/s]\u001b[A\n",
      "  1%|▉                                                                                | 15/1377 [00:02<03:32,  6.42it/s]\u001b[A\n",
      "  1%|▉                                                                                | 16/1377 [00:02<03:27,  6.55it/s]\u001b[A\n",
      "  1%|█                                                                                | 17/1377 [00:02<03:31,  6.44it/s]\u001b[A\n",
      "  1%|█                                                                                | 18/1377 [00:02<03:35,  6.30it/s]\u001b[A\n",
      "  1%|█                                                                                | 19/1377 [00:02<03:35,  6.31it/s]\u001b[A\n",
      "  1%|█▏                                                                               | 20/1377 [00:03<03:41,  6.12it/s]\u001b[A\n",
      "  2%|█▏                                                                               | 21/1377 [00:03<03:41,  6.11it/s]\u001b[A\n",
      "  2%|█▎                                                                               | 22/1377 [00:03<03:41,  6.12it/s]\u001b[A\n",
      "  2%|█▎                                                                               | 23/1377 [00:03<03:37,  6.23it/s]\u001b[A\n",
      "  2%|█▍                                                                               | 24/1377 [00:03<03:38,  6.19it/s]\u001b[A\n",
      "  2%|█▍                                                                               | 25/1377 [00:03<03:37,  6.23it/s]\u001b[A\n",
      "  2%|█▌                                                                               | 26/1377 [00:03<03:30,  6.41it/s]\u001b[A\n",
      "  2%|█▌                                                                               | 27/1377 [00:04<03:35,  6.28it/s]\u001b[A\n",
      "  2%|█▋                                                                               | 28/1377 [00:04<03:37,  6.19it/s]\u001b[A\n",
      "  2%|█▋                                                                               | 29/1377 [00:04<03:34,  6.28it/s]\u001b[A\n",
      "  2%|█▊                                                                               | 30/1377 [00:04<03:30,  6.40it/s]\u001b[A\n",
      "  2%|█▊                                                                               | 31/1377 [00:04<03:32,  6.32it/s]\u001b[A\n",
      "  2%|█▉                                                                               | 32/1377 [00:04<03:42,  6.03it/s]\u001b[A\n",
      "  2%|█▉                                                                               | 33/1377 [00:05<03:39,  6.12it/s]\u001b[A\n",
      "  2%|██                                                                               | 34/1377 [00:05<03:37,  6.17it/s]\u001b[A\n",
      "  3%|██                                                                               | 35/1377 [00:05<03:32,  6.33it/s]\u001b[A\n",
      "  3%|██                                                                               | 36/1377 [00:05<03:39,  6.12it/s]\u001b[A\n",
      "  3%|██▏                                                                              | 37/1377 [00:05<03:31,  6.33it/s]\u001b[A\n",
      "  3%|██▍                                                                              | 41/1377 [00:05<01:48, 12.27it/s]\u001b[A\n",
      "  3%|██▌                                                                              | 43/1377 [00:06<02:19,  9.53it/s]\u001b[A\n",
      "  3%|██▋                                                                              | 45/1377 [00:06<02:41,  8.26it/s]\u001b[A\n",
      "  3%|██▋                                                                              | 46/1377 [00:06<02:51,  7.75it/s]\u001b[A\n",
      "  3%|██▊                                                                              | 47/1377 [00:06<03:03,  7.26it/s]\u001b[A\n",
      "  3%|██▊                                                                              | 48/1377 [00:07<03:13,  6.88it/s]\u001b[A\n",
      "  4%|██▉                                                                              | 49/1377 [00:07<03:12,  6.89it/s]\u001b[A\n",
      "  4%|██▉                                                                              | 50/1377 [00:07<03:15,  6.77it/s]\u001b[A\n",
      "  4%|███                                                                              | 51/1377 [00:07<03:18,  6.67it/s]\u001b[A\n",
      "  4%|███                                                                              | 52/1377 [00:07<03:25,  6.46it/s]\u001b[A\n",
      "  4%|███                                                                              | 53/1377 [00:07<03:33,  6.21it/s]\u001b[A\n",
      "  4%|███▏                                                                             | 54/1377 [00:08<03:30,  6.29it/s]\u001b[A\n",
      "  4%|███▏                                                                             | 55/1377 [00:08<03:30,  6.28it/s]\u001b[A\n",
      "  4%|███▎                                                                             | 56/1377 [00:08<03:28,  6.34it/s]\u001b[A\n",
      "  4%|███▎                                                                             | 57/1377 [00:08<03:32,  6.22it/s]\u001b[A\n",
      "  4%|███▍                                                                             | 58/1377 [00:08<03:35,  6.11it/s]\u001b[A\n",
      "  4%|███▍                                                                             | 59/1377 [00:08<03:32,  6.20it/s]\u001b[A\n",
      "  4%|███▌                                                                             | 60/1377 [00:08<03:26,  6.38it/s]\u001b[A\n",
      "  4%|███▌                                                                             | 61/1377 [00:09<03:22,  6.50it/s]\u001b[A\n",
      "  5%|███▋                                                                             | 62/1377 [00:09<03:24,  6.42it/s]\u001b[A\n",
      "  5%|███▋                                                                             | 63/1377 [00:09<03:26,  6.38it/s]\u001b[A\n",
      "  5%|███▊                                                                             | 64/1377 [00:09<03:32,  6.19it/s]\u001b[A\n",
      "  5%|███▊                                                                             | 65/1377 [00:09<03:44,  5.85it/s]\u001b[A\n",
      "  5%|███▉                                                                             | 66/1377 [00:09<03:42,  5.89it/s]\u001b[A\n",
      "  5%|███▉                                                                             | 67/1377 [00:10<03:39,  5.98it/s]\u001b[A\n",
      "  5%|████                                                                             | 68/1377 [00:10<03:33,  6.14it/s]\u001b[A\n",
      "  5%|████                                                                             | 69/1377 [00:10<03:32,  6.17it/s]\u001b[A\n",
      "  5%|████                                                                             | 70/1377 [00:10<03:22,  6.45it/s]\u001b[A\n",
      "  5%|████▏                                                                            | 71/1377 [00:10<03:25,  6.37it/s]\u001b[A\n",
      "  5%|████▏                                                                          | 72/1377 [00:28<1:55:47,  5.32s/it]\u001b[A\n",
      " 14%|███████████▏                                                                    | 192/1377 [00:28<02:01,  9.72it/s]\u001b[A\n",
      " 16%|████████████▍                                                                   | 215/1377 [00:31<02:08,  9.03it/s]\u001b[A\n",
      " 17%|█████████████▍                                                                  | 232/1377 [00:34<02:16,  8.40it/s]\u001b[A\n",
      " 18%|██████████████                                                                  | 243/1377 [00:53<02:15,  8.40it/s]\u001b[A\n",
      " 18%|██████████████▏                                                                 | 244/1377 [00:35<02:15,  8.37it/s]\u001b[A\n",
      " 18%|██████████████▋                                                                 | 253/1377 [00:37<02:20,  8.02it/s]\u001b[A\n",
      " 19%|███████████████                                                                 | 260/1377 [00:38<02:25,  7.68it/s]\u001b[A\n",
      " 19%|███████████████▍                                                                | 265/1377 [00:39<02:29,  7.43it/s]\u001b[A\n",
      " 20%|███████████████▋                                                                | 269/1377 [00:39<02:32,  7.28it/s]\u001b[A\n",
      " 20%|███████████████▊                                                                | 272/1377 [00:40<02:34,  7.17it/s]\u001b[A\n",
      " 20%|███████████████▉                                                                | 274/1377 [00:40<02:37,  7.01it/s]\u001b[A\n",
      " 20%|████████████████                                                                | 276/1377 [00:40<02:40,  6.88it/s]\u001b[A\n",
      " 20%|████████████████▎                                                               | 280/1377 [00:40<02:09,  8.47it/s]\u001b[A\n",
      " 20%|████████████████▍                                                               | 282/1377 [00:41<02:18,  7.91it/s]\u001b[A\n",
      " 21%|████████████████▍                                                               | 284/1377 [00:41<02:27,  7.42it/s]\u001b[A\n",
      " 21%|████████████████▌                                                               | 286/1377 [00:41<02:32,  7.15it/s]\u001b[A\n",
      " 21%|████████████████▋                                                               | 287/1377 [00:42<02:34,  7.04it/s]\u001b[A\n",
      " 21%|████████████████▋                                                               | 288/1377 [00:42<02:37,  6.91it/s]\u001b[A\n",
      " 21%|████████████████▊                                                               | 289/1377 [00:42<02:41,  6.73it/s]\u001b[A\n",
      " 21%|████████████████▊                                                               | 290/1377 [00:42<02:41,  6.75it/s]\u001b[A\n",
      " 21%|████████████████▉                                                               | 291/1377 [00:42<02:46,  6.52it/s]\u001b[A\n",
      " 21%|████████████████▉                                                               | 292/1377 [00:42<02:52,  6.30it/s]\u001b[A\n",
      " 21%|█████████████████                                                               | 293/1377 [00:43<02:52,  6.30it/s]\u001b[A\n",
      " 21%|█████████████████                                                               | 294/1377 [00:43<02:51,  6.31it/s]\u001b[A\n",
      " 21%|█████████████████▏                                                              | 295/1377 [00:43<02:53,  6.23it/s]\u001b[A\n",
      " 21%|█████████████████▏                                                              | 296/1377 [00:43<02:54,  6.18it/s]\u001b[A\n",
      " 22%|█████████████████▎                                                              | 297/1377 [00:43<02:50,  6.35it/s]\u001b[A\n",
      " 22%|█████████████████▎                                                              | 298/1377 [00:43<02:53,  6.22it/s]\u001b[A\n",
      " 22%|█████████████████▎                                                              | 299/1377 [00:44<02:52,  6.24it/s]\u001b[A\n",
      " 22%|█████████████████▍                                                              | 300/1377 [00:44<02:53,  6.22it/s]\u001b[A\n",
      " 22%|█████████████████▍                                                              | 301/1377 [00:44<02:58,  6.01it/s]\u001b[A\n",
      " 22%|█████████████████▌                                                              | 302/1377 [00:44<02:58,  6.02it/s]\u001b[A\n",
      " 22%|█████████████████▌                                                              | 303/1377 [00:44<02:54,  6.14it/s]\u001b[A\n",
      " 22%|█████████████████▋                                                              | 304/1377 [00:44<02:51,  6.24it/s]\u001b[A\n",
      " 22%|█████████████████▋                                                              | 305/1377 [00:45<02:48,  6.37it/s]\u001b[A\n",
      " 22%|█████████████████▊                                                              | 306/1377 [00:45<02:48,  6.36it/s]\u001b[A\n",
      " 22%|█████████████████▊                                                              | 307/1377 [00:45<02:49,  6.32it/s]\u001b[A\n",
      " 22%|█████████████████▉                                                              | 308/1377 [00:45<02:56,  6.06it/s]\u001b[A\n",
      " 22%|█████████████████▉                                                              | 309/1377 [00:45<02:54,  6.11it/s]\u001b[A\n",
      " 23%|██████████████████                                                              | 310/1377 [00:45<02:52,  6.17it/s]\u001b[A\n",
      " 23%|██████████████████                                                              | 311/1377 [01:03<02:50,  6.24it/s]\u001b[A\n",
      " 23%|██████████████████▎                                                             | 315/1377 [00:46<01:27, 12.13it/s]\u001b[A\n",
      " 23%|██████████████████▍                                                             | 317/1377 [00:46<01:54,  9.28it/s]\u001b[A\n",
      " 23%|██████████████████▌                                                             | 319/1377 [00:46<02:17,  7.69it/s]\u001b[A\n",
      " 23%|██████████████████▌                                                             | 320/1377 [00:46<02:22,  7.41it/s]\u001b[A\n",
      " 23%|██████████████████▋                                                             | 321/1377 [00:47<02:33,  6.87it/s]\u001b[A\n",
      " 23%|██████████████████▋                                                             | 322/1377 [00:47<02:38,  6.67it/s]\u001b[A\n",
      " 23%|██████████████████▊                                                             | 323/1377 [00:47<02:39,  6.60it/s]\u001b[A\n",
      " 24%|██████████████████▊                                                             | 324/1377 [00:47<02:42,  6.47it/s]\u001b[A\n",
      " 24%|██████████████████▉                                                             | 325/1377 [00:47<02:44,  6.40it/s]\u001b[A\n",
      " 24%|██████████████████▉                                                             | 326/1377 [00:47<02:45,  6.34it/s]\u001b[A\n",
      " 24%|██████████████████▉                                                             | 327/1377 [00:48<02:41,  6.52it/s]\u001b[A\n",
      " 24%|███████████████████                                                             | 328/1377 [00:48<02:39,  6.56it/s]\u001b[A\n",
      " 24%|███████████████████                                                             | 329/1377 [00:48<02:49,  6.20it/s]\u001b[A\n",
      " 24%|███████████████████▏                                                            | 330/1377 [00:48<02:45,  6.32it/s]\u001b[A\n",
      " 24%|███████████████████▏                                                            | 331/1377 [00:48<02:46,  6.30it/s]\u001b[A\n",
      " 24%|███████████████████▎                                                            | 332/1377 [00:48<02:47,  6.23it/s]\u001b[A\n",
      " 24%|███████████████████▎                                                            | 333/1377 [00:49<02:47,  6.24it/s]\u001b[A\n",
      " 24%|███████████████████▍                                                            | 334/1377 [00:49<02:48,  6.19it/s]\u001b[A\n",
      " 24%|███████████████████▍                                                            | 335/1377 [00:49<02:48,  6.19it/s]\u001b[A\n",
      " 24%|███████████████████▌                                                            | 336/1377 [00:49<02:45,  6.29it/s]\u001b[A\n",
      " 24%|███████████████████▌                                                            | 337/1377 [00:49<02:48,  6.19it/s]\u001b[A\n",
      " 25%|███████████████████▋                                                            | 338/1377 [00:49<02:47,  6.22it/s]\u001b[A\n",
      " 25%|███████████████████▋                                                            | 339/1377 [00:50<02:48,  6.18it/s]\u001b[A\n",
      " 25%|███████████████████▊                                                            | 340/1377 [00:50<02:47,  6.18it/s]\u001b[A\n",
      " 25%|███████████████████▊                                                            | 341/1377 [00:50<02:49,  6.10it/s]\u001b[A\n",
      " 25%|███████████████████▊                                                            | 342/1377 [00:50<02:49,  6.10it/s]\u001b[A\n",
      " 25%|███████████████████▉                                                            | 343/1377 [00:50<02:48,  6.14it/s]\u001b[A\n",
      " 25%|███████████████████▉                                                            | 344/1377 [00:50<02:47,  6.17it/s]\u001b[A\n",
      " 25%|████████████████████▏                                                           | 348/1377 [00:51<01:24, 12.22it/s]\u001b[A\n",
      " 25%|████████████████████▎                                                           | 350/1377 [00:51<01:51,  9.22it/s]\u001b[A\n",
      " 26%|████████████████████▍                                                           | 352/1377 [00:51<02:07,  8.03it/s]\u001b[A\n",
      " 26%|████████████████████▌                                                           | 353/1377 [00:51<02:16,  7.51it/s]\u001b[A\n",
      " 26%|████████████████████▌                                                           | 354/1377 [00:51<02:18,  7.38it/s]\u001b[A\n",
      " 26%|████████████████████▌                                                           | 355/1377 [00:52<02:25,  7.03it/s]\u001b[A\n",
      " 26%|████████████████████▋                                                           | 356/1377 [00:52<02:27,  6.92it/s]\u001b[A\n",
      " 26%|████████████████████▋                                                           | 357/1377 [00:52<02:29,  6.81it/s]\u001b[A\n",
      " 26%|████████████████████▊                                                           | 358/1377 [00:52<02:32,  6.67it/s]\u001b[A\n",
      " 26%|████████████████████▊                                                           | 359/1377 [00:52<02:35,  6.54it/s]\u001b[A\n",
      " 26%|████████████████████▉                                                           | 360/1377 [00:52<02:50,  5.95it/s]\u001b[A\n",
      " 26%|████████████████████▉                                                           | 361/1377 [00:53<02:48,  6.04it/s]\u001b[A\n",
      " 26%|█████████████████████                                                           | 362/1377 [00:53<02:52,  5.89it/s]\u001b[A\n",
      " 26%|█████████████████████                                                           | 363/1377 [00:53<02:51,  5.90it/s]\u001b[A\n",
      " 26%|█████████████████████▏                                                          | 364/1377 [00:53<02:43,  6.18it/s]\u001b[A\n",
      " 27%|█████████████████████▏                                                          | 365/1377 [00:53<02:45,  6.10it/s]\u001b[A\n",
      " 27%|█████████████████████▎                                                          | 366/1377 [00:53<02:44,  6.13it/s]\u001b[A\n",
      " 27%|█████████████████████▎                                                          | 367/1377 [00:54<02:49,  5.95it/s]\u001b[A\n",
      " 27%|█████████████████████▍                                                          | 368/1377 [00:54<02:48,  5.99it/s]\u001b[A\n",
      " 27%|█████████████████████▍                                                          | 369/1377 [00:54<02:50,  5.92it/s]\u001b[A\n",
      " 27%|█████████████████████▍                                                          | 370/1377 [00:54<02:49,  5.94it/s]\u001b[A\n",
      " 27%|█████████████████████▌                                                          | 371/1377 [00:54<02:47,  6.02it/s]\u001b[A\n",
      " 27%|█████████████████████▌                                                          | 372/1377 [00:54<02:46,  6.05it/s]\u001b[A\n",
      " 27%|█████████████████████▋                                                          | 373/1377 [00:55<02:47,  6.00it/s]\u001b[A\n",
      " 27%|█████████████████████▋                                                          | 374/1377 [00:55<02:46,  6.02it/s]\u001b[A\n",
      " 27%|█████████████████████▊                                                          | 375/1377 [00:55<02:44,  6.09it/s]\u001b[A\n",
      " 27%|█████████████████████▊                                                          | 376/1377 [00:55<02:40,  6.23it/s]\u001b[A\n",
      " 27%|█████████████████████▉                                                          | 377/1377 [00:55<02:40,  6.22it/s]\u001b[A\n",
      " 27%|█████████████████████▉                                                          | 378/1377 [00:55<02:43,  6.12it/s]\u001b[A\n",
      " 28%|██████████████████████▏                                                         | 382/1377 [00:56<01:20, 12.39it/s]\u001b[A\n",
      " 28%|██████████████████████▎                                                         | 384/1377 [00:56<01:44,  9.54it/s]\u001b[A\n",
      " 28%|██████████████████████▍                                                         | 386/1377 [00:56<02:02,  8.09it/s]\u001b[A\n",
      " 28%|██████████████████████▍                                                         | 387/1377 [00:56<02:09,  7.67it/s]\u001b[A\n",
      " 28%|██████████████████████▌                                                         | 388/1377 [00:57<02:14,  7.33it/s]\u001b[A\n",
      " 28%|██████████████████████▌                                                         | 389/1377 [00:57<02:25,  6.81it/s]\u001b[A\n",
      " 28%|██████████████████████▋                                                         | 390/1377 [00:57<02:28,  6.66it/s]\u001b[A\n",
      " 28%|██████████████████████▋                                                         | 391/1377 [00:57<02:30,  6.53it/s]\u001b[A\n",
      " 28%|██████████████████████▊                                                         | 392/1377 [00:57<02:35,  6.34it/s]\u001b[A\n",
      " 29%|██████████████████████▊                                                         | 393/1377 [00:57<02:42,  6.04it/s]\u001b[A\n",
      " 29%|██████████████████████▉                                                         | 394/1377 [00:58<02:45,  5.95it/s]\u001b[A\n",
      " 29%|██████████████████████▉                                                         | 395/1377 [00:58<02:49,  5.79it/s]\u001b[A\n",
      " 29%|███████████████████████                                                         | 396/1377 [00:58<02:49,  5.79it/s]\u001b[A\n",
      " 29%|███████████████████████                                                         | 397/1377 [00:58<02:51,  5.71it/s]\u001b[A\n",
      " 29%|███████████████████████                                                         | 398/1377 [00:58<02:52,  5.67it/s]\u001b[A\n",
      " 29%|███████████████████████▏                                                        | 399/1377 [00:58<02:51,  5.70it/s]\u001b[A\n",
      " 29%|███████████████████████▏                                                        | 400/1377 [00:59<02:45,  5.90it/s]\u001b[A\n",
      " 29%|███████████████████████▎                                                        | 401/1377 [00:59<02:41,  6.04it/s]\u001b[A\n",
      " 29%|███████████████████████▎                                                        | 402/1377 [00:59<02:40,  6.08it/s]\u001b[A\n",
      " 29%|███████████████████████▍                                                        | 403/1377 [00:59<02:36,  6.23it/s]\u001b[A\n",
      " 29%|███████████████████████▍                                                        | 404/1377 [00:59<02:37,  6.18it/s]\u001b[A\n",
      " 29%|███████████████████████▌                                                        | 405/1377 [00:59<02:34,  6.28it/s]\u001b[A\n",
      " 29%|███████████████████████▌                                                        | 406/1377 [01:00<02:37,  6.18it/s]\u001b[A\n",
      " 30%|███████████████████████▋                                                        | 407/1377 [01:00<02:35,  6.25it/s]\u001b[A\n",
      " 30%|███████████████████████▋                                                        | 408/1377 [01:00<02:36,  6.18it/s]\u001b[A\n",
      " 30%|███████████████████████▊                                                        | 409/1377 [01:00<02:35,  6.22it/s]\u001b[A\n",
      " 30%|███████████████████████▊                                                        | 410/1377 [01:00<02:39,  6.07it/s]\u001b[A\n",
      " 30%|███████████████████████▉                                                        | 411/1377 [01:00<02:42,  5.93it/s]\u001b[A\n",
      " 30%|████████████████████████                                                        | 415/1377 [01:01<01:21, 11.86it/s]\u001b[A\n",
      " 30%|████████████████████████▏                                                       | 417/1377 [01:01<01:47,  8.93it/s]\u001b[A\n",
      " 30%|████████████████████████▎                                                       | 419/1377 [01:01<02:01,  7.87it/s]\u001b[A\n",
      " 31%|████████████████████████▍                                                       | 420/1377 [01:01<02:09,  7.38it/s]\u001b[A\n",
      " 31%|████████████████████████▍                                                       | 421/1377 [01:02<02:20,  6.82it/s]\u001b[A\n",
      " 31%|████████████████████████▌                                                       | 422/1377 [01:02<02:21,  6.74it/s]\u001b[A\n",
      " 31%|████████████████████████▌                                                       | 423/1377 [01:02<02:27,  6.48it/s]\u001b[A\n",
      " 31%|████████████████████████▋                                                       | 424/1377 [01:02<02:32,  6.24it/s]\u001b[A\n",
      " 31%|████████████████████████▋                                                       | 425/1377 [01:02<02:33,  6.19it/s]\u001b[A\n",
      " 31%|████████████████████████▋                                                       | 426/1377 [01:02<02:31,  6.30it/s]\u001b[A\n",
      " 31%|████████████████████████▊                                                       | 427/1377 [01:03<02:33,  6.18it/s]\u001b[A\n",
      " 31%|████████████████████████▊                                                       | 428/1377 [01:03<02:40,  5.91it/s]\u001b[A\n",
      " 31%|████████████████████████▉                                                       | 429/1377 [01:03<02:44,  5.76it/s]\u001b[A\n",
      " 31%|████████████████████████▉                                                       | 430/1377 [01:03<02:45,  5.71it/s]\u001b[A\n",
      " 31%|█████████████████████████                                                       | 431/1377 [01:03<02:53,  5.44it/s]\u001b[A\n",
      " 31%|█████████████████████████                                                       | 432/1377 [01:04<02:52,  5.49it/s]\u001b[A\n",
      " 31%|█████████████████████████▏                                                      | 433/1377 [01:04<02:45,  5.72it/s]\u001b[A\n",
      " 32%|█████████████████████████▏                                                      | 434/1377 [01:04<02:45,  5.71it/s]\u001b[A\n",
      " 32%|█████████████████████████▎                                                      | 435/1377 [01:04<02:43,  5.76it/s]\u001b[A\n",
      " 32%|█████████████████████████▎                                                      | 436/1377 [01:04<02:41,  5.82it/s]\u001b[A\n",
      " 32%|█████████████████████████▍                                                      | 437/1377 [01:04<02:51,  5.47it/s]\u001b[A\n",
      " 32%|█████████████████████████▍                                                      | 438/1377 [01:05<02:47,  5.60it/s]\u001b[A\n",
      " 32%|█████████████████████████▌                                                      | 439/1377 [01:05<02:42,  5.78it/s]\u001b[A\n",
      " 32%|█████████████████████████▌                                                      | 440/1377 [01:05<02:40,  5.84it/s]\u001b[A\n",
      " 32%|█████████████████████████▌                                                      | 441/1377 [01:05<02:37,  5.93it/s]\u001b[A\n",
      " 32%|█████████████████████████▋                                                      | 442/1377 [01:05<02:43,  5.73it/s]\u001b[A\n",
      " 32%|█████████████████████████▋                                                      | 443/1377 [01:05<02:42,  5.74it/s]\u001b[A\n",
      " 32%|█████████████████████████▉                                                      | 447/1377 [01:06<01:24, 10.96it/s]\u001b[A\n",
      " 33%|██████████████████████████                                                      | 449/1377 [01:06<01:45,  8.78it/s]\u001b[A\n",
      " 33%|██████████████████████████▏                                                     | 450/1377 [01:06<01:53,  8.14it/s]\u001b[A\n",
      " 33%|██████████████████████████▏                                                     | 451/1377 [01:06<02:02,  7.58it/s]\u001b[A\n",
      " 33%|██████████████████████████▎                                                     | 452/1377 [01:06<02:06,  7.29it/s]\u001b[A\n",
      " 33%|██████████████████████████▎                                                     | 453/1377 [01:07<02:18,  6.68it/s]\u001b[A\n",
      " 33%|██████████████████████████▍                                                     | 454/1377 [01:07<02:22,  6.48it/s]\u001b[A\n",
      " 33%|██████████████████████████▍                                                     | 455/1377 [01:07<02:28,  6.23it/s]\u001b[A\n",
      " 33%|██████████████████████████▍                                                     | 456/1377 [01:07<02:32,  6.05it/s]\u001b[A\n",
      " 33%|██████████████████████████▌                                                     | 457/1377 [01:07<02:31,  6.06it/s]\u001b[A\n",
      " 33%|██████████████████████████▌                                                     | 458/1377 [01:07<02:35,  5.92it/s]\u001b[A\n",
      " 33%|██████████████████████████▋                                                     | 459/1377 [01:08<02:34,  5.95it/s]\u001b[A\n",
      " 33%|██████████████████████████▋                                                     | 460/1377 [01:08<02:22,  6.45it/s]\u001b[A\n",
      " 33%|██████████████████████████▊                                                     | 461/1377 [01:08<02:26,  6.24it/s]\u001b[A\n",
      " 34%|██████████████████████████▊                                                     | 462/1377 [01:08<02:26,  6.23it/s]\u001b[A\n",
      " 34%|██████████████████████████▉                                                     | 463/1377 [01:08<02:29,  6.13it/s]\u001b[A\n",
      " 34%|██████████████████████████▉                                                     | 464/1377 [01:08<02:26,  6.23it/s]\u001b[A\n",
      " 34%|███████████████████████████                                                     | 465/1377 [01:09<02:31,  6.03it/s]\u001b[A\n",
      " 34%|███████████████████████████                                                     | 466/1377 [01:09<02:30,  6.05it/s]\u001b[A\n",
      " 34%|███████████████████████████▏                                                    | 467/1377 [01:09<02:37,  5.79it/s]\u001b[A\n",
      " 34%|███████████████████████████▏                                                    | 468/1377 [01:09<02:35,  5.84it/s]\u001b[A\n",
      " 34%|███████████████████████████▏                                                    | 469/1377 [01:09<02:35,  5.84it/s]\u001b[A\n",
      " 34%|███████████████████████████▎                                                    | 470/1377 [01:09<02:31,  5.99it/s]\u001b[A\n",
      " 34%|███████████████████████████▎                                                    | 471/1377 [01:10<02:28,  6.12it/s]\u001b[A\n",
      " 34%|███████████████████████████▍                                                    | 472/1377 [01:10<02:30,  6.02it/s]\u001b[A\n",
      " 34%|███████████████████████████▍                                                    | 473/1377 [01:10<02:30,  6.00it/s]\u001b[A\n",
      " 34%|███████████████████████████▌                                                    | 474/1377 [01:10<02:23,  6.29it/s]\u001b[A\n",
      " 34%|███████████████████████████▌                                                    | 475/1377 [01:10<02:26,  6.18it/s]\u001b[A\n",
      " 35%|███████████████████████████▋                                                    | 476/1377 [01:10<02:27,  6.10it/s]\u001b[A\n",
      " 35%|███████████████████████████▋                                                    | 477/1377 [01:11<02:20,  6.40it/s]\u001b[A\n",
      " 35%|███████████████████████████▉                                                    | 481/1377 [01:11<01:18, 11.46it/s]\u001b[A\n",
      " 35%|████████████████████████████                                                    | 483/1377 [01:11<01:42,  8.74it/s]\u001b[A\n",
      " 35%|████████████████████████████                                                    | 484/1377 [01:11<01:48,  8.22it/s]\u001b[A\n",
      " 35%|████████████████████████████▏                                                   | 485/1377 [01:11<01:57,  7.62it/s]\u001b[A\n",
      " 35%|████████████████████████████▏                                                   | 486/1377 [01:12<02:04,  7.18it/s]\u001b[A\n",
      " 35%|████████████████████████████▎                                                   | 487/1377 [01:12<02:08,  6.92it/s]\u001b[A\n",
      " 35%|████████████████████████████▎                                                   | 488/1377 [01:12<02:22,  6.25it/s]\u001b[A\n",
      " 36%|████████████████████████████▍                                                   | 489/1377 [01:12<02:28,  5.98it/s]\u001b[A\n",
      " 36%|████████████████████████████▍                                                   | 490/1377 [01:12<02:31,  5.87it/s]\u001b[A\n",
      " 36%|████████████████████████████▌                                                   | 491/1377 [01:12<02:38,  5.59it/s]\u001b[A\n",
      " 36%|████████████████████████████▌                                                   | 492/1377 [01:13<02:35,  5.68it/s]\u001b[A\n",
      " 36%|████████████████████████████▋                                                   | 493/1377 [01:13<02:35,  5.70it/s]\u001b[A\n",
      " 36%|████████████████████████████▋                                                   | 494/1377 [01:13<02:34,  5.73it/s]\u001b[A\n",
      " 36%|████████████████████████████▊                                                   | 495/1377 [01:13<02:28,  5.96it/s]\u001b[A\n",
      " 36%|████████████████████████████▊                                                   | 496/1377 [01:13<02:37,  5.58it/s]\u001b[A\n",
      " 36%|████████████████████████████▊                                                   | 497/1377 [01:14<02:36,  5.64it/s]\u001b[A\n",
      " 36%|████████████████████████████▉                                                   | 498/1377 [01:14<02:41,  5.45it/s]\u001b[A\n",
      " 36%|████████████████████████████▉                                                   | 499/1377 [01:14<02:48,  5.20it/s]\u001b[A\n",
      " 36%|█████████████████████████████                                                   | 500/1377 [01:14<02:45,  5.29it/s]\u001b[A\n",
      " 36%|█████████████████████████████                                                   | 501/1377 [01:14<02:42,  5.38it/s]\u001b[A\n",
      " 36%|█████████████████████████████▏                                                  | 502/1377 [01:14<02:36,  5.58it/s]\u001b[A\n",
      " 37%|█████████████████████████████▏                                                  | 503/1377 [01:15<02:35,  5.62it/s]\u001b[A\n",
      " 37%|█████████████████████████████▎                                                  | 504/1377 [01:15<02:34,  5.66it/s]\u001b[A\n",
      " 37%|█████████████████████████████▎                                                  | 505/1377 [01:15<02:37,  5.52it/s]\u001b[A\n",
      " 37%|█████████████████████████████▍                                                  | 506/1377 [01:15<02:28,  5.88it/s]\u001b[A\n",
      " 37%|█████████████████████████████▍                                                  | 507/1377 [01:15<02:24,  6.01it/s]\u001b[A\n",
      " 37%|█████████████████████████████▌                                                  | 508/1377 [01:15<02:24,  6.02it/s]\u001b[A\n",
      " 37%|█████████████████████████████▋                                                  | 512/1377 [01:16<01:12, 11.89it/s]\u001b[A\n",
      " 37%|█████████████████████████████▊                                                  | 514/1377 [01:16<01:33,  9.26it/s]\u001b[A\n",
      " 37%|█████████████████████████████▉                                                  | 516/1377 [01:16<01:50,  7.79it/s]\u001b[A\n",
      " 38%|██████████████████████████████                                                  | 517/1377 [01:16<01:55,  7.45it/s]\u001b[A\n",
      " 38%|██████████████████████████████                                                  | 518/1377 [01:17<02:02,  7.03it/s]\u001b[A\n",
      " 38%|██████████████████████████████▏                                                 | 519/1377 [01:17<02:07,  6.71it/s]\u001b[A\n",
      " 38%|██████████████████████████████▏                                                 | 520/1377 [01:17<02:12,  6.48it/s]\u001b[A\n",
      " 38%|██████████████████████████████▎                                                 | 521/1377 [01:17<02:16,  6.26it/s]\u001b[A\n",
      " 38%|██████████████████████████████▎                                                 | 522/1377 [01:17<02:14,  6.34it/s]\u001b[A\n",
      " 38%|██████████████████████████████▍                                                 | 523/1377 [01:17<02:14,  6.36it/s]\u001b[A\n",
      " 38%|██████████████████████████████▍                                                 | 524/1377 [01:18<02:16,  6.25it/s]\u001b[A\n",
      " 38%|██████████████████████████████▌                                                 | 525/1377 [01:18<02:19,  6.12it/s]\u001b[A\n",
      " 38%|██████████████████████████████▌                                                 | 526/1377 [01:18<02:19,  6.09it/s]\u001b[A\n",
      " 38%|██████████████████████████████▌                                                 | 527/1377 [01:18<02:21,  6.02it/s]\u001b[A\n",
      " 38%|██████████████████████████████▋                                                 | 528/1377 [01:18<02:24,  5.87it/s]\u001b[A\n",
      " 38%|██████████████████████████████▋                                                 | 529/1377 [01:18<02:23,  5.91it/s]\u001b[A\n",
      " 38%|██████████████████████████████▊                                                 | 530/1377 [01:19<02:23,  5.89it/s]\u001b[A\n",
      " 39%|██████████████████████████████▊                                                 | 531/1377 [01:19<02:23,  5.88it/s]\u001b[A\n",
      " 39%|██████████████████████████████▉                                                 | 532/1377 [01:19<02:24,  5.85it/s]\u001b[A\n",
      " 39%|██████████████████████████████▉                                                 | 533/1377 [01:19<02:25,  5.80it/s]\u001b[A\n",
      " 39%|███████████████████████████████                                                 | 534/1377 [01:19<02:27,  5.72it/s]\u001b[A\n",
      " 39%|███████████████████████████████                                                 | 535/1377 [01:20<02:26,  5.75it/s]\u001b[A\n",
      " 39%|███████████████████████████████▏                                                | 536/1377 [01:20<02:23,  5.87it/s]\u001b[A\n",
      " 39%|███████████████████████████████▏                                                | 537/1377 [01:20<02:23,  5.85it/s]\u001b[A\n",
      " 39%|███████████████████████████████▎                                                | 538/1377 [01:20<02:18,  6.04it/s]\u001b[A\n",
      " 39%|███████████████████████████████▎                                                | 539/1377 [01:20<02:17,  6.08it/s]\u001b[A\n",
      " 39%|███████████████████████████████▎                                                | 540/1377 [01:20<02:22,  5.88it/s]\u001b[A\n",
      " 39%|███████████████████████████████▍                                                | 541/1377 [01:21<02:23,  5.83it/s]\u001b[A\n",
      " 40%|███████████████████████████████▋                                                | 545/1377 [01:21<01:13, 11.31it/s]\u001b[A\n",
      " 40%|███████████████████████████████▊                                                | 547/1377 [01:21<01:34,  8.78it/s]\u001b[A\n",
      " 40%|███████████████████████████████▊                                                | 548/1377 [01:21<01:42,  8.08it/s]\u001b[A\n",
      " 40%|███████████████████████████████▉                                                | 549/1377 [01:21<01:56,  7.14it/s]\u001b[A\n",
      " 40%|███████████████████████████████▉                                                | 550/1377 [01:22<02:00,  6.88it/s]\u001b[A\n",
      " 40%|████████████████████████████████                                                | 551/1377 [01:22<02:06,  6.54it/s]\u001b[A\n",
      " 40%|████████████████████████████████                                                | 552/1377 [01:22<02:10,  6.31it/s]\u001b[A\n",
      " 40%|████████████████████████████████▏                                               | 553/1377 [01:22<02:17,  5.98it/s]\u001b[A\n",
      " 40%|████████████████████████████████▏                                               | 554/1377 [01:22<02:22,  5.76it/s]\u001b[A\n",
      " 40%|████████████████████████████████▏                                               | 555/1377 [01:22<02:24,  5.70it/s]\u001b[A\n",
      " 40%|████████████████████████████████▎                                               | 556/1377 [01:23<02:19,  5.88it/s]\u001b[A\n",
      " 40%|████████████████████████████████▎                                               | 557/1377 [01:23<02:21,  5.79it/s]\u001b[A\n",
      " 41%|████████████████████████████████▍                                               | 558/1377 [01:23<02:17,  5.96it/s]\u001b[A\n",
      " 41%|████████████████████████████████▍                                               | 559/1377 [01:23<02:17,  5.97it/s]\u001b[A\n",
      " 41%|████████████████████████████████▌                                               | 560/1377 [01:23<02:20,  5.83it/s]\u001b[A\n",
      " 41%|████████████████████████████████▌                                               | 561/1377 [01:24<02:31,  5.40it/s]\u001b[A\n",
      " 41%|████████████████████████████████▋                                               | 562/1377 [01:24<02:27,  5.52it/s]\u001b[A\n",
      " 41%|████████████████████████████████▋                                               | 563/1377 [01:24<02:24,  5.63it/s]\u001b[A\n",
      " 41%|████████████████████████████████▊                                               | 564/1377 [01:24<02:23,  5.68it/s]\u001b[A\n",
      " 41%|████████████████████████████████▊                                               | 565/1377 [01:24<02:21,  5.75it/s]\u001b[A\n",
      " 41%|████████████████████████████████▉                                               | 566/1377 [01:24<02:16,  5.92it/s]\u001b[A\n",
      " 41%|████████████████████████████████▉                                               | 567/1377 [01:25<02:16,  5.94it/s]\u001b[A\n",
      " 41%|████████████████████████████████▉                                               | 568/1377 [01:25<02:16,  5.93it/s]\u001b[A\n",
      " 41%|█████████████████████████████████                                               | 569/1377 [01:25<02:18,  5.83it/s]\u001b[A\n",
      " 41%|█████████████████████████████████                                               | 570/1377 [01:25<02:24,  5.59it/s]\u001b[A\n",
      " 41%|█████████████████████████████████▏                                              | 571/1377 [01:25<02:23,  5.61it/s]\u001b[A\n",
      " 42%|█████████████████████████████████▏                                              | 572/1377 [01:25<02:20,  5.74it/s]\u001b[A\n",
      " 42%|█████████████████████████████████▍                                              | 576/1377 [01:26<01:18, 10.26it/s]\u001b[A\n",
      " 42%|█████████████████████████████████▌                                              | 577/1377 [01:26<01:28,  9.07it/s]\u001b[A\n",
      " 42%|█████████████████████████████████▌                                              | 578/1377 [01:26<01:36,  8.27it/s]\u001b[A\n",
      " 42%|█████████████████████████████████▋                                              | 579/1377 [01:26<01:47,  7.44it/s]\u001b[A\n",
      " 42%|█████████████████████████████████▋                                              | 580/1377 [01:26<01:51,  7.12it/s]\u001b[A\n",
      " 42%|█████████████████████████████████▊                                              | 581/1377 [01:27<02:06,  6.31it/s]\u001b[A\n",
      " 42%|█████████████████████████████████▊                                              | 582/1377 [01:27<02:08,  6.17it/s]\u001b[A\n",
      " 42%|█████████████████████████████████▊                                              | 583/1377 [01:27<02:09,  6.11it/s]\u001b[A\n",
      " 42%|█████████████████████████████████▉                                              | 584/1377 [01:27<02:10,  6.08it/s]\u001b[A\n",
      " 42%|█████████████████████████████████▉                                              | 585/1377 [01:27<02:11,  6.01it/s]\u001b[A\n",
      " 43%|██████████████████████████████████                                              | 586/1377 [01:27<02:18,  5.70it/s]\u001b[A\n",
      " 43%|██████████████████████████████████                                              | 587/1377 [01:28<02:17,  5.73it/s]\u001b[A\n",
      " 43%|██████████████████████████████████▏                                             | 588/1377 [01:28<02:16,  5.79it/s]\u001b[A\n",
      " 43%|██████████████████████████████████▏                                             | 589/1377 [01:28<02:15,  5.80it/s]\u001b[A\n",
      " 43%|██████████████████████████████████▎                                             | 590/1377 [01:28<02:18,  5.70it/s]\u001b[A\n",
      " 43%|██████████████████████████████████▎                                             | 591/1377 [01:28<02:13,  5.89it/s]\u001b[A\n",
      " 43%|██████████████████████████████████▍                                             | 592/1377 [01:28<02:13,  5.90it/s]\u001b[A\n",
      " 43%|██████████████████████████████████▍                                             | 593/1377 [01:29<02:13,  5.87it/s]\u001b[A\n",
      " 43%|██████████████████████████████████▌                                             | 594/1377 [01:29<02:19,  5.62it/s]\u001b[A\n",
      " 43%|██████████████████████████████████▌                                             | 595/1377 [01:29<02:14,  5.80it/s]\u001b[A\n",
      " 43%|██████████████████████████████████▋                                             | 596/1377 [01:29<02:16,  5.72it/s]\u001b[A\n",
      " 43%|██████████████████████████████████▋                                             | 597/1377 [01:29<02:14,  5.80it/s]\u001b[A\n",
      " 43%|██████████████████████████████████▋                                             | 598/1377 [01:29<02:16,  5.72it/s]\u001b[A\n",
      " 44%|██████████████████████████████████▊                                             | 599/1377 [01:30<02:13,  5.83it/s]\u001b[A\n",
      " 44%|██████████████████████████████████▊                                             | 600/1377 [01:30<02:12,  5.84it/s]\u001b[A\n",
      " 44%|██████████████████████████████████▉                                             | 601/1377 [01:30<02:16,  5.70it/s]\u001b[A\n",
      " 44%|██████████████████████████████████▉                                             | 602/1377 [01:30<02:12,  5.85it/s]\u001b[A\n",
      " 44%|███████████████████████████████████                                             | 603/1377 [01:30<02:08,  6.00it/s]\u001b[A\n",
      " 44%|███████████████████████████████████                                             | 604/1377 [01:30<02:04,  6.20it/s]\u001b[A\n",
      " 44%|███████████████████████████████████▎                                            | 608/1377 [01:31<01:10, 10.86it/s]\u001b[A\n",
      " 44%|███████████████████████████████████▍                                            | 610/1377 [01:31<01:32,  8.33it/s]\u001b[A\n",
      " 44%|███████████████████████████████████▍                                            | 611/1377 [01:31<01:39,  7.68it/s]\u001b[A\n",
      " 44%|███████████████████████████████████▌                                            | 612/1377 [01:31<01:45,  7.24it/s]\u001b[A\n",
      " 45%|███████████████████████████████████▌                                            | 613/1377 [01:32<01:51,  6.84it/s]\u001b[A\n",
      " 45%|███████████████████████████████████▋                                            | 614/1377 [01:32<02:02,  6.23it/s]\u001b[A\n",
      " 45%|███████████████████████████████████▋                                            | 615/1377 [01:32<02:05,  6.09it/s]\u001b[A\n",
      " 45%|███████████████████████████████████▊                                            | 616/1377 [01:32<02:04,  6.12it/s]\u001b[A\n",
      " 45%|███████████████████████████████████▊                                            | 617/1377 [01:32<02:07,  5.96it/s]\u001b[A\n",
      " 45%|███████████████████████████████████▉                                            | 618/1377 [01:32<02:07,  5.93it/s]\u001b[A\n",
      " 45%|███████████████████████████████████▉                                            | 619/1377 [01:33<02:08,  5.88it/s]\u001b[A\n",
      " 45%|████████████████████████████████████                                            | 620/1377 [01:33<02:08,  5.90it/s]\u001b[A\n",
      " 45%|████████████████████████████████████                                            | 621/1377 [01:33<02:09,  5.84it/s]\u001b[A\n",
      " 45%|████████████████████████████████████▏                                           | 622/1377 [01:33<02:05,  6.04it/s]\u001b[A\n",
      " 45%|████████████████████████████████████▏                                           | 623/1377 [01:33<02:05,  6.00it/s]\u001b[A\n",
      " 45%|████████████████████████████████████▎                                           | 624/1377 [01:33<02:06,  5.96it/s]\u001b[A\n",
      " 45%|████████████████████████████████████▎                                           | 625/1377 [01:34<02:04,  6.05it/s]\u001b[A\n",
      " 45%|████████████████████████████████████▎                                           | 626/1377 [01:34<02:13,  5.61it/s]\u001b[A\n",
      " 46%|████████████████████████████████████▍                                           | 627/1377 [01:34<02:11,  5.68it/s]\u001b[A\n",
      " 46%|████████████████████████████████████▍                                           | 628/1377 [01:34<02:11,  5.69it/s]\u001b[A\n",
      " 46%|████████████████████████████████████▌                                           | 629/1377 [01:34<02:09,  5.79it/s]\u001b[A\n",
      " 46%|████████████████████████████████████▌                                           | 630/1377 [01:35<02:14,  5.54it/s]\u001b[A\n",
      " 46%|████████████████████████████████████▋                                           | 631/1377 [01:35<02:18,  5.39it/s]\u001b[A\n",
      " 46%|████████████████████████████████████▋                                           | 632/1377 [01:35<02:20,  5.31it/s]\u001b[A\n",
      " 46%|████████████████████████████████████▊                                           | 633/1377 [01:35<02:16,  5.45it/s]\u001b[A\n",
      " 46%|████████████████████████████████████▊                                           | 634/1377 [01:35<02:12,  5.59it/s]\u001b[A\n",
      " 46%|████████████████████████████████████▉                                           | 635/1377 [01:35<02:08,  5.78it/s]\u001b[A\n",
      " 46%|█████████████████████████████████████                                           | 639/1377 [01:36<01:11, 10.35it/s]\u001b[A\n",
      " 46%|█████████████████████████████████████▏                                          | 640/1377 [01:36<01:21,  9.00it/s]\u001b[A\n",
      " 47%|█████████████████████████████████████▏                                          | 641/1377 [01:36<01:31,  8.06it/s]\u001b[A\n",
      " 47%|█████████████████████████████████████▎                                          | 642/1377 [01:36<01:38,  7.49it/s]\u001b[A\n",
      " 47%|█████████████████████████████████████▎                                          | 643/1377 [01:36<01:44,  7.04it/s]\u001b[A\n",
      " 47%|█████████████████████████████████████▍                                          | 644/1377 [01:36<01:50,  6.66it/s]\u001b[A\n",
      " 47%|█████████████████████████████████████▍                                          | 645/1377 [01:37<01:51,  6.56it/s]\u001b[A\n",
      " 47%|█████████████████████████████████████▌                                          | 646/1377 [01:37<01:56,  6.29it/s]\u001b[A\n",
      " 47%|█████████████████████████████████████▌                                          | 647/1377 [01:37<01:56,  6.26it/s]\u001b[A\n",
      " 47%|█████████████████████████████████████▋                                          | 648/1377 [01:37<01:59,  6.12it/s]\u001b[A\n",
      " 47%|█████████████████████████████████████▋                                          | 649/1377 [01:37<02:01,  5.98it/s]\u001b[A\n",
      " 47%|█████████████████████████████████████▊                                          | 650/1377 [01:38<02:09,  5.61it/s]\u001b[A\n",
      " 47%|█████████████████████████████████████▊                                          | 651/1377 [01:38<02:09,  5.61it/s]\u001b[A\n",
      " 47%|█████████████████████████████████████▉                                          | 652/1377 [01:38<02:10,  5.57it/s]\u001b[A\n",
      " 47%|█████████████████████████████████████▉                                          | 653/1377 [01:38<02:09,  5.60it/s]\u001b[A\n",
      " 47%|█████████████████████████████████████▉                                          | 654/1377 [01:38<02:08,  5.64it/s]\u001b[A\n",
      " 48%|██████████████████████████████████████                                          | 655/1377 [01:38<02:07,  5.66it/s]\u001b[A\n",
      " 48%|██████████████████████████████████████                                          | 656/1377 [01:39<02:09,  5.55it/s]\u001b[A\n",
      " 48%|██████████████████████████████████████▏                                         | 657/1377 [01:39<02:07,  5.66it/s]\u001b[A\n",
      " 48%|██████████████████████████████████████▏                                         | 658/1377 [01:39<02:07,  5.64it/s]\u001b[A\n",
      " 48%|██████████████████████████████████████▎                                         | 659/1377 [01:39<02:07,  5.61it/s]\u001b[A\n",
      " 48%|██████████████████████████████████████▎                                         | 660/1377 [01:39<02:02,  5.85it/s]\u001b[A\n",
      " 48%|██████████████████████████████████████▍                                         | 661/1377 [01:39<02:13,  5.38it/s]\u001b[A\n",
      " 48%|██████████████████████████████████████▍                                         | 662/1377 [01:40<02:01,  5.88it/s]\u001b[A\n",
      " 48%|██████████████████████████████████████▌                                         | 663/1377 [01:40<02:03,  5.80it/s]\u001b[A\n",
      " 48%|██████████████████████████████████████▌                                         | 664/1377 [01:40<02:01,  5.85it/s]\u001b[A\n",
      " 48%|██████████████████████████████████████▋                                         | 665/1377 [01:40<02:07,  5.59it/s]\u001b[A\n",
      " 48%|██████████████████████████████████████▋                                         | 666/1377 [01:40<02:04,  5.69it/s]\u001b[A\n",
      " 48%|██████████████████████████████████████▊                                         | 667/1377 [01:41<02:05,  5.68it/s]\u001b[A\n",
      " 49%|██████████████████████████████████████▉                                         | 671/1377 [01:41<01:08, 10.32it/s]\u001b[A\n",
      " 49%|███████████████████████████████████████                                         | 672/1377 [01:41<01:19,  8.90it/s]\u001b[A\n",
      " 49%|███████████████████████████████████████                                         | 673/1377 [01:41<01:28,  7.97it/s]\u001b[A\n",
      " 49%|███████████████████████████████████████▏                                        | 674/1377 [01:41<01:40,  7.02it/s]\u001b[A\n",
      " 49%|███████████████████████████████████████▏                                        | 675/1377 [01:41<01:49,  6.44it/s]\u001b[A\n",
      " 49%|███████████████████████████████████████▎                                        | 676/1377 [01:42<01:56,  6.04it/s]\u001b[A\n",
      " 49%|███████████████████████████████████████▎                                        | 677/1377 [01:42<01:57,  5.95it/s]\u001b[A\n",
      " 49%|███████████████████████████████████████▍                                        | 678/1377 [01:42<01:59,  5.86it/s]\u001b[A\n",
      " 49%|███████████████████████████████████████▍                                        | 679/1377 [01:42<02:04,  5.62it/s]\u001b[A\n",
      " 49%|███████████████████████████████████████▌                                        | 680/1377 [01:42<02:01,  5.73it/s]\u001b[A\n",
      " 49%|███████████████████████████████████████▌                                        | 681/1377 [01:43<02:02,  5.67it/s]\u001b[A\n",
      " 50%|███████████████████████████████████████▌                                        | 682/1377 [01:43<02:06,  5.51it/s]\u001b[A\n",
      " 50%|███████████████████████████████████████▋                                        | 683/1377 [01:43<02:00,  5.76it/s]\u001b[A\n",
      " 50%|███████████████████████████████████████▋                                        | 684/1377 [01:43<02:00,  5.77it/s]\u001b[A\n",
      " 50%|███████████████████████████████████████▊                                        | 685/1377 [01:43<02:03,  5.62it/s]\u001b[A\n",
      " 50%|███████████████████████████████████████▊                                        | 686/1377 [01:43<02:01,  5.71it/s]\u001b[A\n",
      " 50%|███████████████████████████████████████▉                                        | 687/1377 [01:44<02:02,  5.64it/s]\u001b[A\n",
      " 50%|███████████████████████████████████████▉                                        | 688/1377 [01:44<02:06,  5.43it/s]\u001b[A\n",
      " 50%|████████████████████████████████████████                                        | 689/1377 [01:44<02:03,  5.59it/s]\u001b[A\n",
      " 50%|████████████████████████████████████████                                        | 690/1377 [01:44<02:10,  5.26it/s]\u001b[A\n",
      " 50%|████████████████████████████████████████▏                                       | 691/1377 [01:44<02:05,  5.46it/s]\u001b[A\n",
      " 50%|████████████████████████████████████████▏                                       | 692/1377 [01:45<02:05,  5.47it/s]\u001b[A\n",
      " 50%|████████████████████████████████████████▎                                       | 693/1377 [01:45<02:04,  5.50it/s]\u001b[A\n",
      " 50%|████████████████████████████████████████▎                                       | 694/1377 [01:45<02:07,  5.37it/s]\u001b[A\n",
      " 50%|████████████████████████████████████████▍                                       | 695/1377 [01:45<02:03,  5.53it/s]\u001b[A\n",
      " 51%|████████████████████████████████████████▍                                       | 696/1377 [01:45<02:02,  5.57it/s]\u001b[A\n",
      " 51%|████████████████████████████████████████▍                                       | 697/1377 [01:45<02:04,  5.44it/s]\u001b[A\n",
      " 51%|████████████████████████████████████████▋                                       | 701/1377 [01:46<01:07, 10.02it/s]\u001b[A\n",
      " 51%|████████████████████████████████████████▊                                       | 702/1377 [01:46<01:22,  8.17it/s]\u001b[A\n",
      " 51%|████████████████████████████████████████▊                                       | 703/1377 [01:46<01:29,  7.51it/s]\u001b[A\n",
      " 51%|████████████████████████████████████████▉                                       | 704/1377 [01:46<01:35,  7.04it/s]\u001b[A\n",
      " 51%|████████████████████████████████████████▉                                       | 705/1377 [01:46<01:41,  6.61it/s]\u001b[A\n",
      " 51%|█████████████████████████████████████████                                       | 706/1377 [01:47<01:42,  6.53it/s]\u001b[A\n",
      " 51%|█████████████████████████████████████████                                       | 707/1377 [01:47<01:45,  6.37it/s]\u001b[A\n",
      " 51%|█████████████████████████████████████████▏                                      | 708/1377 [01:47<01:46,  6.31it/s]\u001b[A\n",
      " 51%|█████████████████████████████████████████▏                                      | 709/1377 [01:47<01:49,  6.13it/s]\u001b[A\n",
      " 52%|█████████████████████████████████████████▏                                      | 710/1377 [01:47<01:50,  6.04it/s]\u001b[A\n",
      " 52%|█████████████████████████████████████████▎                                      | 711/1377 [01:47<01:50,  6.05it/s]\u001b[A\n",
      " 52%|█████████████████████████████████████████▎                                      | 712/1377 [01:48<01:53,  5.88it/s]\u001b[A\n",
      " 52%|█████████████████████████████████████████▍                                      | 713/1377 [01:48<01:53,  5.85it/s]\u001b[A\n",
      " 52%|█████████████████████████████████████████▍                                      | 714/1377 [01:48<01:54,  5.79it/s]\u001b[A\n",
      " 52%|█████████████████████████████████████████▌                                      | 715/1377 [01:48<01:50,  6.01it/s]\u001b[A\n",
      " 52%|█████████████████████████████████████████▌                                      | 716/1377 [01:48<01:49,  6.03it/s]\u001b[A\n",
      " 52%|█████████████████████████████████████████▋                                      | 717/1377 [01:48<01:50,  5.96it/s]\u001b[A\n",
      " 52%|█████████████████████████████████████████▋                                      | 718/1377 [01:49<01:49,  6.02it/s]\u001b[A\n",
      " 52%|█████████████████████████████████████████▊                                      | 719/1377 [01:49<01:48,  6.06it/s]\u001b[A\n",
      " 52%|█████████████████████████████████████████▊                                      | 720/1377 [01:49<01:49,  5.99it/s]\u001b[A\n",
      " 52%|█████████████████████████████████████████▉                                      | 721/1377 [01:49<01:51,  5.87it/s]\u001b[A\n",
      " 52%|█████████████████████████████████████████▉                                      | 722/1377 [01:49<01:51,  5.89it/s]\u001b[A\n",
      " 53%|██████████████████████████████████████████                                      | 723/1377 [01:49<01:53,  5.78it/s]\u001b[A\n",
      " 53%|██████████████████████████████████████████                                      | 724/1377 [01:50<01:50,  5.92it/s]\u001b[A\n",
      " 53%|██████████████████████████████████████████                                      | 725/1377 [01:50<01:51,  5.83it/s]\u001b[A\n",
      " 53%|██████████████████████████████████████████▏                                     | 726/1377 [01:50<01:51,  5.82it/s]\u001b[A\n",
      " 53%|██████████████████████████████████████████▏                                     | 727/1377 [01:50<01:51,  5.85it/s]\u001b[A\n",
      " 53%|██████████████████████████████████████████▎                                     | 728/1377 [01:50<01:50,  5.85it/s]\u001b[A\n",
      " 53%|██████████████████████████████████████████▎                                     | 729/1377 [01:50<01:50,  5.87it/s]\u001b[A\n",
      " 53%|██████████████████████████████████████████▌                                     | 733/1377 [01:51<01:01, 10.53it/s]\u001b[A\n",
      " 53%|██████████████████████████████████████████▋                                     | 734/1377 [01:51<01:08,  9.33it/s]\u001b[A\n",
      " 53%|██████████████████████████████████████████▋                                     | 735/1377 [01:51<01:17,  8.27it/s]\u001b[A\n",
      " 53%|██████████████████████████████████████████▊                                     | 736/1377 [01:51<01:24,  7.56it/s]\u001b[A\n",
      " 54%|██████████████████████████████████████████▊                                     | 737/1377 [01:51<01:35,  6.68it/s]\u001b[A\n",
      " 54%|██████████████████████████████████████████▉                                     | 738/1377 [01:52<01:39,  6.44it/s]\u001b[A\n",
      " 54%|██████████████████████████████████████████▉                                     | 739/1377 [01:52<01:43,  6.19it/s]\u001b[A\n",
      " 54%|██████████████████████████████████████████▉                                     | 740/1377 [01:52<01:41,  6.29it/s]\u001b[A\n",
      " 54%|███████████████████████████████████████████                                     | 741/1377 [01:52<01:46,  5.98it/s]\u001b[A\n",
      " 54%|███████████████████████████████████████████                                     | 742/1377 [01:52<01:46,  5.95it/s]\u001b[A\n",
      " 54%|███████████████████████████████████████████▏                                    | 743/1377 [01:52<01:47,  5.91it/s]\u001b[A\n",
      " 54%|███████████████████████████████████████████▏                                    | 744/1377 [01:53<01:50,  5.73it/s]\u001b[A\n",
      " 54%|███████████████████████████████████████████▎                                    | 745/1377 [01:53<01:49,  5.76it/s]\u001b[A\n",
      " 54%|███████████████████████████████████████████▎                                    | 746/1377 [01:53<01:50,  5.69it/s]\u001b[A\n",
      " 54%|███████████████████████████████████████████▍                                    | 747/1377 [01:53<01:56,  5.42it/s]\u001b[A\n",
      " 54%|███████████████████████████████████████████▍                                    | 748/1377 [01:53<01:50,  5.68it/s]\u001b[A\n",
      " 54%|███████████████████████████████████████████▌                                    | 749/1377 [01:54<01:58,  5.31it/s]\u001b[A\n",
      " 54%|███████████████████████████████████████████▌                                    | 750/1377 [01:54<01:56,  5.40it/s]\u001b[A\n",
      " 55%|███████████████████████████████████████████▋                                    | 751/1377 [01:54<01:54,  5.46it/s]\u001b[A\n",
      " 55%|███████████████████████████████████████████▋                                    | 752/1377 [01:54<01:50,  5.65it/s]\u001b[A\n",
      " 55%|███████████████████████████████████████████▋                                    | 753/1377 [01:54<01:50,  5.66it/s]\u001b[A\n",
      " 55%|███████████████████████████████████████████▊                                    | 754/1377 [01:54<01:49,  5.69it/s]\u001b[A\n",
      " 55%|███████████████████████████████████████████▊                                    | 755/1377 [01:55<01:46,  5.85it/s]\u001b[A\n",
      " 55%|███████████████████████████████████████████▉                                    | 756/1377 [01:55<01:45,  5.89it/s]\u001b[A\n",
      " 55%|███████████████████████████████████████████▉                                    | 757/1377 [01:55<01:46,  5.80it/s]\u001b[A\n",
      " 55%|████████████████████████████████████████████                                    | 758/1377 [01:55<01:48,  5.71it/s]\u001b[A\n",
      " 55%|████████████████████████████████████████████                                    | 759/1377 [01:55<01:48,  5.69it/s]\u001b[A\n",
      " 55%|████████████████████████████████████████████▏                                   | 760/1377 [01:55<01:48,  5.67it/s]\u001b[A\n",
      " 55%|████████████████████████████████████████████▍                                   | 764/1377 [01:56<01:00, 10.06it/s]\u001b[A\n",
      " 56%|████████████████████████████████████████████▍                                   | 765/1377 [01:56<01:09,  8.86it/s]\u001b[A\n",
      " 56%|████████████████████████████████████████████▌                                   | 766/1377 [01:56<01:15,  8.12it/s]\u001b[A\n",
      " 56%|████████████████████████████████████████████▌                                   | 767/1377 [01:56<01:21,  7.44it/s]\u001b[A\n",
      " 56%|████████████████████████████████████████████▌                                   | 768/1377 [01:56<01:26,  7.07it/s]\u001b[A\n",
      " 56%|████████████████████████████████████████████▋                                   | 769/1377 [01:57<01:34,  6.42it/s]\u001b[A\n",
      " 56%|████████████████████████████████████████████▋                                   | 770/1377 [01:57<01:35,  6.32it/s]\u001b[A\n",
      " 56%|████████████████████████████████████████████▊                                   | 771/1377 [01:57<01:38,  6.15it/s]\u001b[A\n",
      " 56%|████████████████████████████████████████████▊                                   | 772/1377 [01:57<01:35,  6.33it/s]\u001b[A\n",
      " 56%|████████████████████████████████████████████▉                                   | 773/1377 [01:57<01:36,  6.28it/s]\u001b[A\n",
      " 56%|████████████████████████████████████████████▉                                   | 774/1377 [01:57<01:39,  6.06it/s]\u001b[A\n",
      " 56%|█████████████████████████████████████████████                                   | 775/1377 [01:58<01:42,  5.85it/s]\u001b[A\n",
      " 56%|█████████████████████████████████████████████                                   | 776/1377 [01:58<01:45,  5.71it/s]\u001b[A\n",
      " 56%|█████████████████████████████████████████████▏                                  | 777/1377 [01:58<01:46,  5.61it/s]\u001b[A\n",
      " 56%|█████████████████████████████████████████████▏                                  | 778/1377 [01:58<01:45,  5.67it/s]\u001b[A\n",
      " 57%|█████████████████████████████████████████████▎                                  | 779/1377 [01:58<01:46,  5.59it/s]\u001b[A\n",
      " 57%|█████████████████████████████████████████████▎                                  | 780/1377 [01:58<01:44,  5.71it/s]\u001b[A\n",
      " 57%|█████████████████████████████████████████████▎                                  | 781/1377 [01:59<01:43,  5.75it/s]\u001b[A\n",
      " 57%|█████████████████████████████████████████████▍                                  | 782/1377 [01:59<01:44,  5.68it/s]\u001b[A\n",
      " 57%|█████████████████████████████████████████████▍                                  | 783/1377 [01:59<01:44,  5.66it/s]\u001b[A\n",
      " 57%|█████████████████████████████████████████████▌                                  | 784/1377 [01:59<01:44,  5.66it/s]\u001b[A\n",
      " 57%|█████████████████████████████████████████████▌                                  | 785/1377 [01:59<01:47,  5.50it/s]\u001b[A\n",
      " 57%|█████████████████████████████████████████████▋                                  | 786/1377 [02:00<01:46,  5.53it/s]\u001b[A\n",
      " 57%|█████████████████████████████████████████████▋                                  | 787/1377 [02:00<01:46,  5.53it/s]\u001b[A\n",
      " 57%|█████████████████████████████████████████████▊                                  | 788/1377 [02:00<01:44,  5.61it/s]\u001b[A\n",
      " 57%|█████████████████████████████████████████████▊                                  | 789/1377 [02:00<01:47,  5.46it/s]\u001b[A\n",
      " 57%|█████████████████████████████████████████████▉                                  | 790/1377 [02:00<01:43,  5.69it/s]\u001b[A\n",
      " 57%|█████████████████████████████████████████████▉                                  | 791/1377 [02:00<01:42,  5.70it/s]\u001b[A\n",
      " 58%|██████████████████████████████████████████████                                  | 792/1377 [02:01<01:41,  5.74it/s]\u001b[A\n",
      " 58%|██████████████████████████████████████████████▏                                 | 796/1377 [02:01<00:55, 10.49it/s]\u001b[A\n",
      " 58%|██████████████████████████████████████████████▎                                 | 798/1377 [02:01<01:11,  8.13it/s]\u001b[A\n",
      " 58%|██████████████████████████████████████████████▍                                 | 799/1377 [02:01<01:17,  7.47it/s]\u001b[A\n",
      " 58%|██████████████████████████████████████████████▍                                 | 800/1377 [02:01<01:22,  6.97it/s]\u001b[A\n",
      " 58%|██████████████████████████████████████████████▌                                 | 801/1377 [02:02<01:25,  6.72it/s]\u001b[A\n",
      " 58%|██████████████████████████████████████████████▌                                 | 802/1377 [02:02<01:31,  6.31it/s]\u001b[A\n",
      " 58%|██████████████████████████████████████████████▋                                 | 803/1377 [02:02<01:34,  6.07it/s]\u001b[A\n",
      " 58%|██████████████████████████████████████████████▋                                 | 804/1377 [02:02<01:38,  5.81it/s]\u001b[A\n",
      " 58%|██████████████████████████████████████████████▊                                 | 805/1377 [02:02<01:37,  5.89it/s]\u001b[A\n",
      " 59%|██████████████████████████████████████████████▊                                 | 806/1377 [02:03<01:34,  6.02it/s]\u001b[A\n",
      " 59%|██████████████████████████████████████████████▉                                 | 807/1377 [02:03<01:35,  5.94it/s]\u001b[A\n",
      " 59%|██████████████████████████████████████████████▉                                 | 808/1377 [02:03<01:37,  5.85it/s]\u001b[A\n",
      " 59%|███████████████████████████████████████████████                                 | 809/1377 [02:03<01:38,  5.79it/s]\u001b[A\n",
      " 59%|███████████████████████████████████████████████                                 | 810/1377 [02:03<01:37,  5.82it/s]\u001b[A\n",
      " 59%|███████████████████████████████████████████████                                 | 811/1377 [02:03<01:37,  5.80it/s]\u001b[A\n",
      " 59%|███████████████████████████████████████████████▏                                | 812/1377 [02:04<01:37,  5.80it/s]\u001b[A\n",
      " 59%|███████████████████████████████████████████████▏                                | 813/1377 [02:04<01:37,  5.81it/s]\u001b[A\n",
      " 59%|███████████████████████████████████████████████▎                                | 814/1377 [02:04<01:37,  5.75it/s]\u001b[A\n",
      " 59%|███████████████████████████████████████████████▎                                | 815/1377 [02:04<01:35,  5.88it/s]\u001b[A\n",
      " 59%|███████████████████████████████████████████████▍                                | 816/1377 [02:04<01:35,  5.86it/s]\u001b[A\n",
      " 59%|███████████████████████████████████████████████▍                                | 817/1377 [02:04<01:34,  5.90it/s]\u001b[A\n",
      " 59%|███████████████████████████████████████████████▌                                | 818/1377 [02:05<01:36,  5.80it/s]\u001b[A\n",
      " 59%|███████████████████████████████████████████████▌                                | 819/1377 [02:05<01:36,  5.80it/s]\u001b[A\n",
      " 60%|███████████████████████████████████████████████▋                                | 820/1377 [02:05<01:41,  5.50it/s]\u001b[A\n",
      " 60%|███████████████████████████████████████████████▋                                | 821/1377 [02:05<01:39,  5.59it/s]\u001b[A\n",
      " 60%|███████████████████████████████████████████████▊                                | 822/1377 [02:05<01:36,  5.75it/s]\u001b[A\n",
      " 60%|███████████████████████████████████████████████▊                                | 823/1377 [02:06<01:38,  5.65it/s]\u001b[A\n",
      " 60%|████████████████████████████████████████████████                                | 827/1377 [02:06<00:52, 10.53it/s]\u001b[A\n",
      " 60%|████████████████████████████████████████████████▏                               | 829/1377 [02:06<01:05,  8.41it/s]\u001b[A\n",
      " 60%|████████████████████████████████████████████████▏                               | 830/1377 [02:06<01:08,  7.95it/s]\u001b[A\n",
      " 60%|████████████████████████████████████████████████▎                               | 831/1377 [02:06<01:13,  7.47it/s]\u001b[A\n",
      " 60%|████████████████████████████████████████████████▎                               | 832/1377 [02:07<01:18,  6.97it/s]\u001b[A\n",
      " 60%|████████████████████████████████████████████████▍                               | 833/1377 [02:07<01:22,  6.58it/s]\u001b[A\n",
      " 61%|████████████████████████████████████████████████▍                               | 834/1377 [02:07<01:27,  6.19it/s]\u001b[A\n",
      " 61%|████████████████████████████████████████████████▌                               | 835/1377 [02:07<01:29,  6.04it/s]\u001b[A\n",
      " 61%|████████████████████████████████████████████████▌                               | 836/1377 [02:07<01:29,  6.02it/s]\u001b[A\n",
      " 61%|████████████████████████████████████████████████▋                               | 837/1377 [02:07<01:28,  6.08it/s]\u001b[A\n",
      " 61%|████████████████████████████████████████████████▋                               | 838/1377 [02:08<01:30,  5.97it/s]\u001b[A\n",
      " 61%|████████████████████████████████████████████████▋                               | 839/1377 [02:08<01:30,  5.92it/s]\u001b[A\n",
      " 61%|████████████████████████████████████████████████▊                               | 840/1377 [02:08<01:32,  5.78it/s]\u001b[A\n",
      " 61%|████████████████████████████████████████████████▊                               | 841/1377 [02:08<01:39,  5.38it/s]\u001b[A\n",
      " 61%|████████████████████████████████████████████████▉                               | 842/1377 [02:08<01:39,  5.38it/s]\u001b[A\n",
      " 61%|████████████████████████████████████████████████▉                               | 843/1377 [02:09<01:36,  5.55it/s]\u001b[A\n",
      " 61%|█████████████████████████████████████████████████                               | 844/1377 [02:09<01:38,  5.39it/s]\u001b[A\n",
      " 61%|█████████████████████████████████████████████████                               | 845/1377 [02:09<01:34,  5.60it/s]\u001b[A\n",
      " 61%|█████████████████████████████████████████████████▏                              | 846/1377 [02:09<01:35,  5.57it/s]\u001b[A\n",
      " 62%|█████████████████████████████████████████████████▏                              | 847/1377 [02:09<01:35,  5.56it/s]\u001b[A\n",
      " 62%|█████████████████████████████████████████████████▎                              | 848/1377 [02:09<01:31,  5.81it/s]\u001b[A\n",
      " 62%|█████████████████████████████████████████████████▎                              | 849/1377 [02:10<01:31,  5.74it/s]\u001b[A\n",
      " 62%|█████████████████████████████████████████████████▍                              | 850/1377 [02:10<01:35,  5.50it/s]\u001b[A\n",
      " 62%|█████████████████████████████████████████████████▍                              | 851/1377 [02:10<01:34,  5.59it/s]\u001b[A\n",
      " 62%|█████████████████████████████████████████████████▍                              | 852/1377 [02:10<01:31,  5.73it/s]\u001b[A\n",
      " 62%|█████████████████████████████████████████████████▌                              | 853/1377 [02:10<01:28,  5.90it/s]\u001b[A\n",
      " 62%|█████████████████████████████████████████████████▌                              | 854/1377 [02:10<01:30,  5.81it/s]\u001b[A\n",
      " 62%|█████████████████████████████████████████████████▋                              | 855/1377 [02:28<46:25,  5.34s/it]\u001b[A\n",
      " 70%|████████████████████████████████████████████████████████                        | 965/1377 [02:28<00:46,  8.93it/s]\u001b[A\n",
      " 72%|█████████████████████████████████████████████████████████▌                      | 991/1377 [02:32<00:47,  8.13it/s]\u001b[A\n",
      " 73%|█████████████████████████████████████████████████████████▉                     | 1009/1377 [02:35<00:48,  7.53it/s]\u001b[A\n",
      " 73%|██████████████████████████████████████████████████████████                     | 1012/1377 [02:53<00:48,  7.53it/s]\u001b[A\n",
      " 74%|██████████████████████████████████████████████████████████                     | 1013/1377 [02:35<00:46,  7.82it/s]\u001b[A\n",
      " 74%|██████████████████████████████████████████████████████████▋                    | 1023/1377 [02:37<00:48,  7.37it/s]\u001b[A\n",
      " 75%|███████████████████████████████████████████████████████████                    | 1030/1377 [02:38<00:49,  6.99it/s]\u001b[A\n",
      " 75%|███████████████████████████████████████████████████████████▍                   | 1035/1377 [02:39<00:50,  6.82it/s]\u001b[A\n",
      " 75%|███████████████████████████████████████████████████████████▌                   | 1039/1377 [02:40<00:51,  6.61it/s]\u001b[A\n",
      " 76%|███████████████████████████████████████████████████████████▊                   | 1042/1377 [02:40<00:51,  6.49it/s]\u001b[A\n",
      " 76%|████████████████████████████████████████████████████████████                   | 1046/1377 [02:41<00:44,  7.45it/s]\u001b[A\n",
      " 76%|████████████████████████████████████████████████████████████▏                  | 1049/1377 [02:41<00:46,  7.06it/s]\u001b[A\n",
      " 76%|████████████████████████████████████████████████████████████▎                  | 1051/1377 [02:42<00:48,  6.74it/s]\u001b[A\n",
      " 76%|████████████████████████████████████████████████████████████▍                  | 1053/1377 [02:42<00:49,  6.53it/s]\u001b[A\n",
      " 77%|████████████████████████████████████████████████████████████▌                  | 1055/1377 [02:42<00:50,  6.41it/s]\u001b[A\n",
      " 77%|████████████████████████████████████████████████████████████▌                  | 1056/1377 [02:42<00:51,  6.28it/s]\u001b[A\n",
      " 77%|████████████████████████████████████████████████████████████▋                  | 1057/1377 [02:43<00:51,  6.23it/s]\u001b[A\n",
      " 77%|████████████████████████████████████████████████████████████▋                  | 1058/1377 [02:43<00:50,  6.34it/s]\u001b[A\n",
      " 77%|████████████████████████████████████████████████████████████▊                  | 1059/1377 [02:43<00:50,  6.25it/s]\u001b[A\n",
      " 77%|████████████████████████████████████████████████████████████▊                  | 1060/1377 [02:43<00:51,  6.12it/s]\u001b[A\n",
      " 77%|████████████████████████████████████████████████████████████▊                  | 1061/1377 [02:43<00:53,  5.93it/s]\u001b[A\n",
      " 77%|████████████████████████████████████████████████████████████▉                  | 1062/1377 [02:43<00:53,  5.87it/s]\u001b[A\n",
      " 77%|████████████████████████████████████████████████████████████▉                  | 1063/1377 [02:44<00:54,  5.75it/s]\u001b[A\n",
      " 77%|█████████████████████████████████████████████████████████████                  | 1064/1377 [02:44<00:54,  5.74it/s]\u001b[A\n",
      " 77%|█████████████████████████████████████████████████████████████                  | 1065/1377 [02:44<00:53,  5.79it/s]\u001b[A\n",
      " 77%|█████████████████████████████████████████████████████████████▏                 | 1066/1377 [02:44<00:52,  5.91it/s]\u001b[A\n",
      " 77%|█████████████████████████████████████████████████████████████▏                 | 1067/1377 [02:44<00:50,  6.11it/s]\u001b[A\n",
      " 78%|█████████████████████████████████████████████████████████████▎                 | 1068/1377 [02:44<00:52,  5.88it/s]\u001b[A\n",
      " 78%|█████████████████████████████████████████████████████████████▎                 | 1069/1377 [02:45<00:53,  5.71it/s]\u001b[A\n",
      " 78%|█████████████████████████████████████████████████████████████▍                 | 1070/1377 [02:45<00:54,  5.65it/s]\u001b[A\n",
      " 78%|█████████████████████████████████████████████████████████████▍                 | 1071/1377 [02:45<00:55,  5.55it/s]\u001b[A\n",
      " 78%|█████████████████████████████████████████████████████████████▌                 | 1072/1377 [02:45<00:55,  5.48it/s]\u001b[A\n",
      " 78%|█████████████████████████████████████████████████████████████▌                 | 1073/1377 [02:45<00:55,  5.52it/s]\u001b[A\n",
      " 78%|█████████████████████████████████████████████████████████████▌                 | 1074/1377 [02:46<00:54,  5.56it/s]\u001b[A\n",
      " 78%|█████████████████████████████████████████████████████████████▋                 | 1075/1377 [03:03<26:51,  5.34s/it]\u001b[A\n",
      " 86%|███████████████████████████████████████████████████████████████████▉           | 1184/1377 [03:03<00:22,  8.75it/s]\u001b[A\n",
      " 87%|████████████████████████████████████████████████████████████████████▋          | 1198/1377 [03:06<00:22,  8.11it/s]\u001b[A\n",
      " 87%|████████████████████████████████████████████████████████████████████▋          | 1198/1377 [03:23<00:22,  8.11it/s]\u001b[A\n",
      " 87%|████████████████████████████████████████████████████████████████████▊          | 1199/1377 [03:23<01:08,  2.58it/s]\u001b[A\n",
      " 95%|███████████████████████████████████████████████████████████████████████████    | 1309/1377 [03:23<00:07,  8.68it/s]\u001b[A\n",
      " 96%|███████████████████████████████████████████████████████████████████████████▉   | 1323/1377 [03:43<00:06,  8.68it/s]\u001b[A\n",
      " 96%|███████████████████████████████████████████████████████████████████████████▉   | 1324/1377 [03:25<00:06,  8.41it/s]\u001b[A\n",
      " 97%|████████████████████████████████████████████████████████████████████████████▉  | 1340/1377 [03:28<00:04,  7.84it/s]\u001b[A\n",
      " 98%|█████████████████████████████████████████████████████████████████████████████▌ | 1352/1377 [03:30<00:03,  7.42it/s]\u001b[A\n",
      " 98%|█████████████████████████████████████████████████████████████████████████████▋ | 1354/1377 [03:48<00:03,  7.42it/s]\u001b[A\n",
      " 98%|█████████████████████████████████████████████████████████████████████████████▊ | 1356/1377 [03:31<00:02,  7.72it/s]\u001b[A\n",
      " 99%|██████████████████████████████████████████████████████████████████████████████▏| 1363/1377 [03:32<00:01,  7.37it/s]\u001b[A\n",
      " 99%|██████████████████████████████████████████████████████████████████████████████▍| 1368/1377 [03:33<00:01,  7.10it/s]\u001b[A\n",
      "100%|██████████████████████████████████████████████████████████████████████████████▋| 1372/1377 [03:33<00:00,  6.94it/s]\u001b[A\n",
      "100%|██████████████████████████████████████████████████████████████████████████████▉| 1375/1377 [03:34<00:00,  6.73it/s]\u001b[A\n",
      "100%|███████████████████████████████████████████████████████████████████████████████| 1377/1377 [03:34<00:00,  6.63it/s]\u001b[A"
     ]
    }
   ],
   "source": [
    "from tqdm.auto import tqdm\n",
    "\n",
    "progress_bar = tqdm(range(num_training_steps))\n",
    "\n",
    "model.train()\n",
    "for epoch in range(num_epochs):\n",
    "    for batch in train_dataloader:\n",
    "        batch = {k: v.to(device) for k, v in batch.items()}\n",
    "        outputs = model(**batch)\n",
    "        loss = outputs.loss\n",
    "        loss.backward()\n",
    "\n",
    "        optimizer.step()\n",
    "        lr_scheduler.step()\n",
    "        optimizer.zero_grad()\n",
    "        progress_bar.update(1)"
   ]
  },
  {
   "cell_type": "code",
   "execution_count": 63,
   "id": "ccdda524-e370-4f0b-a0c1-be8895b5fed9",
   "metadata": {},
   "outputs": [
    {
     "name": "stderr",
     "output_type": "stream",
     "text": [
      "\n",
      "100%|███████████████████████████████████████████████████████████████████████████████| 1377/1377 [03:53<00:00,  6.63it/s]\u001b[A"
     ]
    },
    {
     "data": {
      "text/plain": [
       "{'accuracy': 0.8333333333333334, 'f1': 0.8855218855218855}"
      ]
     },
     "execution_count": 63,
     "metadata": {},
     "output_type": "execute_result"
    }
   ],
   "source": [
    "metric = evaluate.load(\"glue\", \"mrpc\")\n",
    "model.eval()\n",
    "for batch in eval_dataloader:\n",
    "    batch = {k: v.to(device) for k, v in batch.items()}\n",
    "    with torch.no_grad():\n",
    "        outputs = model(**batch)\n",
    "\n",
    "    logits = outputs.logits\n",
    "    predictions = torch.argmax(logits, dim=-1)\n",
    "    metric.add_batch(predictions=predictions, references=batch[\"labels\"])\n",
    "\n",
    "metric.compute()"
   ]
  },
  {
   "cell_type": "markdown",
   "id": "6d587bce-e76f-4765-bc91-15f445233ddf",
   "metadata": {},
   "source": [
    "# Loss Curves"
   ]
  },
  {
   "cell_type": "code",
   "execution_count": 64,
   "id": "5afd89fc-519d-4a21-8878-09dca150d5a8",
   "metadata": {
    "tags": []
   },
   "outputs": [],
   "source": [
    "# Example of tracking loss during training with the Trainer\n",
    "from transformers import Trainer, TrainingArguments\n",
    "import wandb\n",
    "\n",
    "# Initialize Weights & Biases for experiment tracking"
   ]
  },
  {
   "cell_type": "code",
   "execution_count": 65,
   "id": "11275e46-ddf4-4b58-8c7b-bb0a177cd918",
   "metadata": {
    "tags": []
   },
   "outputs": [],
   "source": [
    "import sys\n",
    "#!{sys.executable} -m pip install wandb"
   ]
  },
  {
   "cell_type": "code",
   "execution_count": 66,
   "id": "ad161eb5-5d6e-4e97-a3bd-a5ca60cf5193",
   "metadata": {
    "tags": []
   },
   "outputs": [
    {
     "data": {
      "text/html": [
       "Finishing previous runs because reinit is set to 'default'."
      ],
      "text/plain": [
       "<IPython.core.display.HTML object>"
      ]
     },
     "metadata": {},
     "output_type": "display_data"
    },
    {
     "data": {
      "text/html": [],
      "text/plain": [
       "<IPython.core.display.HTML object>"
      ]
     },
     "metadata": {},
     "output_type": "display_data"
    },
    {
     "data": {
      "text/html": [
       "<br>    <style><br>        .wandb-row {<br>            display: flex;<br>            flex-direction: row;<br>            flex-wrap: wrap;<br>            justify-content: flex-start;<br>            width: 100%;<br>        }<br>        .wandb-col {<br>            display: flex;<br>            flex-direction: column;<br>            flex-basis: 100%;<br>            flex: 1;<br>            padding: 10px;<br>        }<br>    </style><br><div class=\"wandb-row\"><div class=\"wandb-col\"><h3>Run history:</h3><br/><table class=\"wandb\"><tr><td>eval/accuracy</td><td>▁▁▅▅▆▇▆▇▇██▇▇</td></tr><tr><td>eval/f1</td><td>▁▁▄▅▆▇▆▇▆██▇▇</td></tr><tr><td>eval/loss</td><td>█▇▅▃▃▆▄▂▁▃▄▇▆</td></tr><tr><td>eval/runtime</td><td>▄▅▅▅▅▆▁█▇▁██▂</td></tr><tr><td>eval/samples_per_second</td><td>▄▄▄▄▃▃█▁▁▇▁▁▇</td></tr><tr><td>eval/steps_per_second</td><td>▄▄▄▄▃▃█▁▁▇▁▁▇</td></tr><tr><td>train/epoch</td><td>▁▁▁▁▁▂▂▂▃▃▃▃▃▄▄▄▅▅▅▅▅▅▅▅▆▆▆▆▆▆▇▇▇▇▇▇████</td></tr><tr><td>train/global_step</td><td>▁▁▁▁▁▂▂▂▂▂▂▃▃▃▃▃▃▄▄▄▄▄▄▅▅▅▅▆▆▆▇▇▇▇▇▇▇███</td></tr><tr><td>train/learning_rate</td><td>██▇▇▇▇▇▇▆▆▆▆▆▆▆▅▅▅▅▅▄▄▄▄▄▃▃▃▃▃▂▂▂▂▂▂▁▁▁▁</td></tr><tr><td>train/loss</td><td>█▇▇▇██▇█▆▇▅▆▆▆▅▄▅▄▃▄▅▃▃▄▂▃▅▄▂▃▁▂▂▂▂▂▂▁▃▁</td></tr><tr><td>train/total_flos</td><td>▁</td></tr><tr><td>train/train_loss</td><td>▁</td></tr><tr><td>train/train_runtime</td><td>▁</td></tr><tr><td>train/train_samples_per_second</td><td>▁</td></tr><tr><td>train/train_steps_per_second</td><td>▁</td></tr></table><br/></div><div class=\"wandb-col\"><h3>Run summary:</h3><br/><table class=\"wandb\"><tr><td>eval/accuracy</td><td>0.85784</td></tr><tr><td>eval/f1</td><td>0.90236</td></tr><tr><td>eval/loss</td><td>0.54568</td></tr><tr><td>eval/runtime</td><td>1.5947</td></tr><tr><td>eval/samples_per_second</td><td>255.848</td></tr><tr><td>eval/steps_per_second</td><td>16.304</td></tr><tr><td>train/epoch</td><td>3</td></tr><tr><td>train/global_step</td><td>690</td></tr><tr><td>train/learning_rate</td><td>0</td></tr><tr><td>train/loss</td><td>0.0859</td></tr><tr><td>train/total_flos</td><td>430291408824720.0</td></tr><tr><td>train/train_loss</td><td>0.33223</td></tr><tr><td>train/train_runtime</td><td>217.2412</td></tr><tr><td>train/train_samples_per_second</td><td>50.653</td></tr><tr><td>train/train_steps_per_second</td><td>3.176</td></tr></table><br/></div></div>"
      ],
      "text/plain": [
       "<IPython.core.display.HTML object>"
      ]
     },
     "metadata": {},
     "output_type": "display_data"
    },
    {
     "data": {
      "text/html": [
       " View run <strong style=\"color:#cdcd00\">bert-mrpc-analysis</strong> at: <a href='https://wandb.ai/gokhannergull-student/transformer-fine-tuning/runs/gwpk5yag' target=\"_blank\">https://wandb.ai/gokhannergull-student/transformer-fine-tuning/runs/gwpk5yag</a><br> View project at: <a href='https://wandb.ai/gokhannergull-student/transformer-fine-tuning' target=\"_blank\">https://wandb.ai/gokhannergull-student/transformer-fine-tuning</a><br>Synced 5 W&B file(s), 0 media file(s), 0 artifact file(s) and 0 other file(s)"
      ],
      "text/plain": [
       "<IPython.core.display.HTML object>"
      ]
     },
     "metadata": {},
     "output_type": "display_data"
    },
    {
     "data": {
      "text/html": [
       "Find logs at: <code>./wandb/run-20250902_141752-gwpk5yag/logs</code>"
      ],
      "text/plain": [
       "<IPython.core.display.HTML object>"
      ]
     },
     "metadata": {},
     "output_type": "display_data"
    },
    {
     "data": {
      "text/html": [
       "Tracking run with wandb version 0.21.1"
      ],
      "text/plain": [
       "<IPython.core.display.HTML object>"
      ]
     },
     "metadata": {},
     "output_type": "display_data"
    },
    {
     "data": {
      "text/html": [
       "Run data is saved locally in <code>/home/gokhan/hugging_face/wandb/run-20250902_142703-rm8h4odh</code>"
      ],
      "text/plain": [
       "<IPython.core.display.HTML object>"
      ]
     },
     "metadata": {},
     "output_type": "display_data"
    },
    {
     "data": {
      "text/html": [
       "Syncing run <strong><a href='https://wandb.ai/gokhannergull-student/transformer-fine-tuning/runs/rm8h4odh' target=\"_blank\">bert-mrpc-analysis</a></strong> to <a href='https://wandb.ai/gokhannergull-student/transformer-fine-tuning' target=\"_blank\">Weights & Biases</a> (<a href='https://wandb.me/developer-guide' target=\"_blank\">docs</a>)<br>"
      ],
      "text/plain": [
       "<IPython.core.display.HTML object>"
      ]
     },
     "metadata": {},
     "output_type": "display_data"
    },
    {
     "data": {
      "text/html": [
       " View project at <a href='https://wandb.ai/gokhannergull-student/transformer-fine-tuning' target=\"_blank\">https://wandb.ai/gokhannergull-student/transformer-fine-tuning</a>"
      ],
      "text/plain": [
       "<IPython.core.display.HTML object>"
      ]
     },
     "metadata": {},
     "output_type": "display_data"
    },
    {
     "data": {
      "text/html": [
       " View run at <a href='https://wandb.ai/gokhannergull-student/transformer-fine-tuning/runs/rm8h4odh' target=\"_blank\">https://wandb.ai/gokhannergull-student/transformer-fine-tuning/runs/rm8h4odh</a>"
      ],
      "text/plain": [
       "<IPython.core.display.HTML object>"
      ]
     },
     "metadata": {},
     "output_type": "display_data"
    },
    {
     "name": "stderr",
     "output_type": "stream",
     "text": [
      "/home/gokhan/miniconda3/envs/pytorch-gpu/lib/python3.10/site-packages/transformers/optimization.py:411: FutureWarning: This implementation of AdamW is deprecated and will be removed in a future version. Use the PyTorch implementation torch.optim.AdamW instead, or set `no_deprecation_warning=True` to disable this warning\n",
      "  warnings.warn(\n"
     ]
    },
    {
     "data": {
      "text/html": [
       "\n",
       "    <div>\n",
       "      \n",
       "      <progress value='690' max='690' style='width:300px; height:20px; vertical-align: middle;'></progress>\n",
       "      [690/690 03:48, Epoch 3/3]\n",
       "    </div>\n",
       "    <table border=\"1\" class=\"dataframe\">\n",
       "  <thead>\n",
       " <tr style=\"text-align: left;\">\n",
       "      <th>Step</th>\n",
       "      <th>Training Loss</th>\n",
       "      <th>Validation Loss</th>\n",
       "      <th>Accuracy</th>\n",
       "      <th>F1</th>\n",
       "    </tr>\n",
       "  </thead>\n",
       "  <tbody>\n",
       "    <tr>\n",
       "      <td>50</td>\n",
       "      <td>0.158100</td>\n",
       "      <td>0.715121</td>\n",
       "      <td>0.848039</td>\n",
       "      <td>0.891986</td>\n",
       "    </tr>\n",
       "    <tr>\n",
       "      <td>100</td>\n",
       "      <td>0.191100</td>\n",
       "      <td>0.667575</td>\n",
       "      <td>0.840686</td>\n",
       "      <td>0.890017</td>\n",
       "    </tr>\n",
       "    <tr>\n",
       "      <td>150</td>\n",
       "      <td>0.095600</td>\n",
       "      <td>0.864052</td>\n",
       "      <td>0.838235</td>\n",
       "      <td>0.888514</td>\n",
       "    </tr>\n",
       "    <tr>\n",
       "      <td>200</td>\n",
       "      <td>0.240700</td>\n",
       "      <td>0.514255</td>\n",
       "      <td>0.845588</td>\n",
       "      <td>0.883978</td>\n",
       "    </tr>\n",
       "    <tr>\n",
       "      <td>250</td>\n",
       "      <td>0.105400</td>\n",
       "      <td>0.879439</td>\n",
       "      <td>0.835784</td>\n",
       "      <td>0.889984</td>\n",
       "    </tr>\n",
       "    <tr>\n",
       "      <td>300</td>\n",
       "      <td>0.115700</td>\n",
       "      <td>0.853561</td>\n",
       "      <td>0.835784</td>\n",
       "      <td>0.880570</td>\n",
       "    </tr>\n",
       "    <tr>\n",
       "      <td>350</td>\n",
       "      <td>0.028400</td>\n",
       "      <td>0.724919</td>\n",
       "      <td>0.843137</td>\n",
       "      <td>0.892256</td>\n",
       "    </tr>\n",
       "    <tr>\n",
       "      <td>400</td>\n",
       "      <td>0.157300</td>\n",
       "      <td>0.791553</td>\n",
       "      <td>0.857843</td>\n",
       "      <td>0.903333</td>\n",
       "    </tr>\n",
       "    <tr>\n",
       "      <td>450</td>\n",
       "      <td>0.108700</td>\n",
       "      <td>0.737043</td>\n",
       "      <td>0.823529</td>\n",
       "      <td>0.875000</td>\n",
       "    </tr>\n",
       "    <tr>\n",
       "      <td>500</td>\n",
       "      <td>0.004200</td>\n",
       "      <td>0.845043</td>\n",
       "      <td>0.833333</td>\n",
       "      <td>0.883562</td>\n",
       "    </tr>\n",
       "    <tr>\n",
       "      <td>550</td>\n",
       "      <td>0.003100</td>\n",
       "      <td>0.895530</td>\n",
       "      <td>0.835784</td>\n",
       "      <td>0.887015</td>\n",
       "    </tr>\n",
       "    <tr>\n",
       "      <td>600</td>\n",
       "      <td>0.049600</td>\n",
       "      <td>0.842848</td>\n",
       "      <td>0.835784</td>\n",
       "      <td>0.887015</td>\n",
       "    </tr>\n",
       "    <tr>\n",
       "      <td>650</td>\n",
       "      <td>0.077300</td>\n",
       "      <td>0.851491</td>\n",
       "      <td>0.843137</td>\n",
       "      <td>0.892977</td>\n",
       "    </tr>\n",
       "  </tbody>\n",
       "</table><p>"
      ],
      "text/plain": [
       "<IPython.core.display.HTML object>"
      ]
     },
     "metadata": {},
     "output_type": "display_data"
    },
    {
     "name": "stdout",
     "output_type": "stream",
     "text": [
      "Predictions shape: (408,)\n",
      "Predictions shape: (408,)\n",
      "Predictions shape: (408,)\n",
      "Predictions shape: (408,)\n",
      "Predictions shape: (408,)\n",
      "Predictions shape: (408,)\n",
      "Predictions shape: (408,)\n",
      "Predictions shape: (408,)\n",
      "Predictions shape: (408,)\n",
      "Predictions shape: (408,)\n",
      "Predictions shape: (408,)\n",
      "Predictions shape: (408,)\n",
      "Predictions shape: (408,)\n"
     ]
    },
    {
     "data": {
      "text/plain": [
       "TrainOutput(global_step=690, training_loss=0.09419950324286154, metrics={'train_runtime': 229.2179, 'train_samples_per_second': 48.007, 'train_steps_per_second': 3.01, 'total_flos': 430291408824720.0, 'train_loss': 0.09419950324286154, 'epoch': 3.0})"
      ]
     },
     "execution_count": 66,
     "metadata": {},
     "output_type": "execute_result"
    }
   ],
   "source": [
    "wandb.init(project=\"transformer-fine-tuning\", name=\"bert-mrpc-analysis\")\n",
    "\n",
    "training_args = TrainingArguments(\n",
    "    output_dir=\"./results\",\n",
    "    evaluation_strategy=\"steps\",\n",
    "    eval_steps=50,\n",
    "    save_steps=100,\n",
    "    logging_steps=10,  # Log metrics every 10 steps\n",
    "    num_train_epochs=3,\n",
    "    per_device_train_batch_size=16,\n",
    "    per_device_eval_batch_size=16,\n",
    "    report_to=\"wandb\",  # Send logs to Weights & Biases\n",
    ")\n",
    "\n",
    "trainer = Trainer(\n",
    "    model=model,\n",
    "    args=training_args,\n",
    "    train_dataset=tokenized_datasets[\"train\"],\n",
    "    eval_dataset=tokenized_datasets[\"validation\"],\n",
    "    data_collator=data_collator,\n",
    "    tokenizer=tokenizer,\n",
    "    compute_metrics=compute_metrics,\n",
    ")\n",
    "\n",
    "# Train and automatically log metrics\n",
    "trainer.train()"
   ]
  },
  {
   "cell_type": "code",
   "execution_count": null,
   "id": "9779f245-7ba9-4c10-be98-89c09fbfe172",
   "metadata": {},
   "outputs": [],
   "source": []
  },
  {
   "cell_type": "code",
   "execution_count": null,
   "id": "8b7fcf6b-b5f3-4180-af4e-54842ea5273b",
   "metadata": {},
   "outputs": [],
   "source": []
  },
  {
   "cell_type": "markdown",
   "id": "14cf2280-7131-4094-8218-dc161e2db862",
   "metadata": {},
   "source": [
    "the result of the output of the above codes We can see there is a \"**confidence overfitting**\" there.\n",
    "\n",
    "######\n",
    "The model is generally progressing with accuracy, but its losses are getting worse because it is making mistakes with overconfidence."
   ]
  },
  {
   "cell_type": "code",
   "execution_count": null,
   "id": "332ca51c-80cf-471d-bba8-8956dbb472e3",
   "metadata": {},
   "outputs": [],
   "source": []
  }
 ],
 "metadata": {
  "kernelspec": {
   "display_name": "PyTorch (GPU)",
   "language": "python",
   "name": "pytorch-gpu"
  },
  "language_info": {
   "codemirror_mode": {
    "name": "ipython",
    "version": 3
   },
   "file_extension": ".py",
   "mimetype": "text/x-python",
   "name": "python",
   "nbconvert_exporter": "python",
   "pygments_lexer": "ipython3",
   "version": "3.10.18"
  }
 },
 "nbformat": 4,
 "nbformat_minor": 5
}
